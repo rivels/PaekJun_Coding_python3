{
 "cells": [
  {
   "cell_type": "code",
   "execution_count": null,
   "metadata": {},
   "outputs": [],
   "source": [
    "a=int(input())\n",
    "if (a//5==0 and a//3==0) or (a-(a//5))/3!=0:\n",
    "    print(-1)\n",
    "else:\n",
    "    A=a//5\n",
    "    B=A//3\n",
    "    print(A+B)"
   ]
  },
  {
   "cell_type": "code",
   "execution_count": null,
   "metadata": {
    "scrolled": true
   },
   "outputs": [],
   "source": [
    "a=int(input())\n",
    "five=a//5 #5로 나눈 몫\n",
    "a=a-(five*5)\n",
    "three=a//3 #3으로 나눈 몫\n",
    "a=a-(three*3)\n",
    "\n",
    "\n",
    "\n",
    "if (five==0 and three==0):\n",
    "    print(-1)\n",
    "else:\n",
    "    print(five+three)"
   ]
  },
  {
   "cell_type": "code",
   "execution_count": null,
   "metadata": {},
   "outputs": [],
   "source": [
    "a=int(input())\n",
    "F=a//5\n",
    "a5=a-(F*5)\n",
    "T=a5//3\n",
    "a3=a5-(T*3)\n",
    "\n",
    "if a3!=0:\n",
    "    if a//3\n",
    "    print(-1)\n",
    "else:\n",
    "    print(F+T)"
   ]
  },
  {
   "cell_type": "code",
   "execution_count": null,
   "metadata": {},
   "outputs": [],
   "source": [
    "a=int(input())\n",
    "b=0\n",
    "while True:\n",
    "    if a%5==0:\n",
    "        print((a//5)+b)\n",
    "        print(a//5,b)\n",
    "        break\n",
    "    elif a<0:\n",
    "        print(-1)\n",
    "        break\n",
    "    \n",
    "    else:\n",
    "        a-=3\n",
    "        b+=1\n",
    "        \n",
    "'''\n",
    "가장 먼저 체크해야 할 사항은 5로 나누어떨어져 나머지가 0인지에 대한 여부\n",
    "그래서 만약 나누어떨어지면 그걸로 해결이고\n",
    "그렇지 않다면 3kg짜리로 빼가면서 계속 5로 나누어 떨어지는지를 확인하는\n",
    "반복문을 작성하면 해결할 수 있는 문제.\n",
    "'''"
   ]
  },
  {
   "cell_type": "code",
   "execution_count": null,
   "metadata": {},
   "outputs": [],
   "source": [
    "'''\n",
    "등비가 2인 등비수열\n",
    "1은 1번\n",
    "7이하는 2번\n",
    "19이하는 3번\n",
    "37이하는 4번\n",
    "61이하는 5번\n",
    "1 2 3  4  5  6  7 ...\n",
    "1 7 19 37 61 91 127 ...\n",
    " 6 12 18 24 30 36 42 ...\n",
    "\n",
    "'''"
   ]
  },
  {
   "cell_type": "code",
   "execution_count": null,
   "metadata": {},
   "outputs": [],
   "source": [
    "n=int(input())\n",
    "c=1\n",
    "s=6\n",
    "while True:\n",
    "    if n<=0 or n==1:\n",
    "        print(c)\n",
    "        break\n",
    "    n-=s\n",
    "    s+=6\n",
    "    c+=1"
   ]
  },
  {
   "cell_type": "code",
   "execution_count": null,
   "metadata": {},
   "outputs": [],
   "source": [
    "a=1\n",
    "n=6\n",
    "for i in range(0,20):\n",
    "    print(a,i+1)\n",
    "    a+=n\n",
    "    n+=6"
   ]
  },
  {
   "cell_type": "code",
   "execution_count": null,
   "metadata": {},
   "outputs": [],
   "source": [
    "'''\n",
    "1,2~3,4~6,7~10,11~15,16~21,...\n",
    "1  1   2  3    4     5\n",
    "\n",
    "1 2 6 7 15 16 28 29  45 46  66 ...\n",
    "   4   8     12    16     20   ...\n",
    "   \n",
    "1  2  6  7  15 16 28 29 45\n",
    "3  5  8  14 17 27 30 44\n",
    "4  9  13 18 26 31 43\n",
    "10 12 19 25 32 42\n",
    "11 20 24 33 41\n",
    "21 23 34 40\n",
    "22 35 39\n",
    "36 38\n",
    "37\n",
    "'''"
   ]
  },
  {
   "cell_type": "code",
   "execution_count": 10,
   "metadata": {},
   "outputs": [
    {
     "name": "stdout",
     "output_type": "stream",
     "text": [
      "5 21\n",
      "5 6 7 8 9\n",
      "5 6 7\n",
      "5 6 8\n",
      "5 6 9\n",
      "5 7 7\n",
      "5 7 8\n",
      "5 7 9\n",
      "21\n"
     ]
    }
   ],
   "source": [
    "c,N=map(int,input().split())\n",
    "CL=list(map(int,input().split()))\n",
    "k=0\n",
    "for i in range(0,c-2):\n",
    "    for j in range(1,c-1):\n",
    "        for k in range(2,c):\n",
    "            print(CL[i],CL[j],CL[k])\n",
    "            S=CL[i]+CL[j]+CL[k]\n",
    "            if S==N:\n",
    "                print(S)\n",
    "\n",
    "            else:\n",
    "                S=0\n",
    "        if S==N:\n",
    "                break\n",
    "    if S==N:\n",
    "                break"
   ]
  },
  {
   "cell_type": "code",
   "execution_count": 12,
   "metadata": {},
   "outputs": [
    {
     "name": "stdout",
     "output_type": "stream",
     "text": [
      "5 21\n",
      "5 6 7 8 9\n"
     ]
    },
    {
     "ename": "IndexError",
     "evalue": "list index out of range",
     "output_type": "error",
     "traceback": [
      "\u001b[0;31m---------------------------------------------------------------------------\u001b[0m",
      "\u001b[0;31mIndexError\u001b[0m                                Traceback (most recent call last)",
      "\u001b[0;32m<ipython-input-12-a5b111977e62>\u001b[0m in \u001b[0;36m<module>\u001b[0;34m\u001b[0m\n\u001b[1;32m     10\u001b[0m         \u001b[0;32mfor\u001b[0m \u001b[0mk\u001b[0m \u001b[0;32min\u001b[0m \u001b[0mCL\u001b[0m\u001b[0;34m:\u001b[0m\u001b[0;34m\u001b[0m\u001b[0;34m\u001b[0m\u001b[0m\n\u001b[1;32m     11\u001b[0m             \u001b[0;32mif\u001b[0m \u001b[0mCL\u001b[0m\u001b[0;34m.\u001b[0m\u001b[0mindex\u001b[0m\u001b[0;34m(\u001b[0m\u001b[0mi\u001b[0m\u001b[0;34m)\u001b[0m\u001b[0;34m!=\u001b[0m\u001b[0mCL\u001b[0m\u001b[0;34m.\u001b[0m\u001b[0mindex\u001b[0m\u001b[0;34m(\u001b[0m\u001b[0mj\u001b[0m\u001b[0;34m)\u001b[0m \u001b[0;32mand\u001b[0m \u001b[0mCL\u001b[0m\u001b[0;34m.\u001b[0m\u001b[0mindex\u001b[0m\u001b[0;34m(\u001b[0m\u001b[0mi\u001b[0m\u001b[0;34m)\u001b[0m\u001b[0;34m!=\u001b[0m\u001b[0mCL\u001b[0m\u001b[0;34m.\u001b[0m\u001b[0mindex\u001b[0m\u001b[0;34m(\u001b[0m\u001b[0mk\u001b[0m\u001b[0;34m)\u001b[0m \u001b[0;32mand\u001b[0m \u001b[0mCL\u001b[0m\u001b[0;34m.\u001b[0m\u001b[0mindex\u001b[0m\u001b[0;34m(\u001b[0m\u001b[0mj\u001b[0m\u001b[0;34m)\u001b[0m\u001b[0;34m!=\u001b[0m\u001b[0mCL\u001b[0m\u001b[0;34m.\u001b[0m\u001b[0mindex\u001b[0m\u001b[0;34m(\u001b[0m\u001b[0mk\u001b[0m\u001b[0;34m)\u001b[0m\u001b[0;34m:\u001b[0m\u001b[0;34m\u001b[0m\u001b[0;34m\u001b[0m\u001b[0m\n\u001b[0;32m---> 12\u001b[0;31m                 \u001b[0mS\u001b[0m\u001b[0;34m=\u001b[0m\u001b[0mCL\u001b[0m\u001b[0;34m[\u001b[0m\u001b[0mi\u001b[0m\u001b[0;34m]\u001b[0m\u001b[0;34m+\u001b[0m\u001b[0mCL\u001b[0m\u001b[0;34m[\u001b[0m\u001b[0mj\u001b[0m\u001b[0;34m]\u001b[0m\u001b[0;34m+\u001b[0m\u001b[0mCL\u001b[0m\u001b[0;34m[\u001b[0m\u001b[0mk\u001b[0m\u001b[0;34m]\u001b[0m\u001b[0;34m\u001b[0m\u001b[0;34m\u001b[0m\u001b[0m\n\u001b[0m\u001b[1;32m     13\u001b[0m                 \u001b[0;32mif\u001b[0m \u001b[0mS\u001b[0m\u001b[0;34m==\u001b[0m\u001b[0mN\u001b[0m\u001b[0;34m:\u001b[0m\u001b[0;34m\u001b[0m\u001b[0;34m\u001b[0m\u001b[0m\n\u001b[1;32m     14\u001b[0m                     \u001b[0;32mbreak\u001b[0m\u001b[0;34m\u001b[0m\u001b[0;34m\u001b[0m\u001b[0m\n",
      "\u001b[0;31mIndexError\u001b[0m: list index out of range"
     ]
    }
   ],
   "source": [
    "import sys\n",
    "sys.setrecursionlimit(1000000)\n",
    "\n",
    "c,N=map(int,input().split())\n",
    "CL=list(map(int,input().split()))\n",
    "k=S=0\n",
    "U=[]\n",
    "for i in CL:\n",
    "    for j in CL:\n",
    "        for k in CL:\n",
    "            if CL.index(i)!=CL.index(j) and CL.index(i)!=CL.index(k) and CL.index(j)!=CL.index(k): \n",
    "                S=CL[i]+CL[j]+CL[k]\n",
    "                if S==N:\n",
    "                    break\n",
    "                else:\n",
    "                    U.append(abs(N-S))\n",
    "        if S==N:\n",
    "            break\n",
    "    if S==N:\n",
    "        break\n",
    "if S==N:\n",
    "    print(S)\n",
    "else:\n",
    "    print(N-min(U))"
   ]
  },
  {
   "cell_type": "code",
   "execution_count": 37,
   "metadata": {},
   "outputs": [
    {
     "name": "stdout",
     "output_type": "stream",
     "text": [
      "5 21\n",
      "5 6 7 8 9\n",
      "21\n"
     ]
    }
   ],
   "source": [
    "import sys\n",
    "sys.setrecursionlimit(1000000)\n",
    "\n",
    "c,N=map(int,input().split())\n",
    "CL=list(map(int,input().split()))\n",
    "k=S=0\n",
    "U=[]\n",
    "\n",
    "for i in range(0,c):\n",
    "    for j in range(0,c):\n",
    "        for k in range(0,c):\n",
    "            if CL[i]!=CL[j] and CL[i]!=CL[k] and CL[j]!=CL[k]:\n",
    "                if CL[i]+CL[j]+CL[k] not in U:\n",
    "                    S=CL[i]+CL[j]+CL[k]\n",
    "                    U.append(abs(N-S))\n",
    "                    if 0 in U:\n",
    "                        print(S)\n",
    "                        break\n",
    "        if 0 in U:\n",
    "            break\n",
    "    if 0 in U:\n",
    "        break\n",
    "if 0 not in U:\n",
    "    print(N-min(U))"
   ]
  },
  {
   "cell_type": "code",
   "execution_count": 60,
   "metadata": {},
   "outputs": [
    {
     "name": "stdout",
     "output_type": "stream",
     "text": [
      "10 500\n",
      "93 181 245 214 315 36 185 138 216 295\n",
      "149\n"
     ]
    }
   ],
   "source": [
    "import sys\n",
    "sys.setrecursionlimit(1000000)\n",
    "\n",
    "c,N=map(int,input().split())\n",
    "CL=list(map(int,input().split()))\n",
    "S=0\n",
    "m=1000\n",
    "\n",
    "\n",
    "for i in range(0,c-2):\n",
    "    for j in range(1,c-1):\n",
    "        for k in range(2,c):\n",
    "            if i!=j and i!=k and j!=k:\n",
    "                if CL[i]+CL[j]+CL[k] not in U:\n",
    "                    S=CL[i]+CL[j]+CL[k]\n",
    "                    if N-S<m:\n",
    "                        m=abs(N-S)\n",
    "                    if m==0:\n",
    "                        break\n",
    "        if m==0:\n",
    "            break\n",
    "    if m==0:\n",
    "        break\n",
    "if m==0:\n",
    "    print(N)\n",
    "else:\n",
    "    print(m)"
   ]
  },
  {
   "cell_type": "code",
   "execution_count": 52,
   "metadata": {},
   "outputs": [
    {
     "data": {
      "text/plain": [
       "[3, 2, 1, 1, 0, 1, 1, 0, 1, 0, 2, 0, 1, 3]"
      ]
     },
     "execution_count": 52,
     "metadata": {},
     "output_type": "execute_result"
    }
   ],
   "source": [
    "U"
   ]
  },
  {
   "cell_type": "code",
   "execution_count": 45,
   "metadata": {},
   "outputs": [
    {
     "data": {
      "text/plain": [
       "int"
      ]
     },
     "execution_count": 45,
     "metadata": {},
     "output_type": "execute_result"
    }
   ],
   "source": [
    "type(len(CL))"
   ]
  },
  {
   "cell_type": "code",
   "execution_count": 48,
   "metadata": {},
   "outputs": [],
   "source": [
    "for _ in range(0,len(CL)):\n",
    "    break"
   ]
  },
  {
   "cell_type": "code",
   "execution_count": null,
   "metadata": {},
   "outputs": [],
   "source": []
  }
 ],
 "metadata": {
  "kernelspec": {
   "display_name": "Python 3",
   "language": "python",
   "name": "python3"
  },
  "language_info": {
   "codemirror_mode": {
    "name": "ipython",
    "version": 3
   },
   "file_extension": ".py",
   "mimetype": "text/x-python",
   "name": "python",
   "nbconvert_exporter": "python",
   "pygments_lexer": "ipython3",
   "version": "3.7.4"
  }
 },
 "nbformat": 4,
 "nbformat_minor": 4
}
