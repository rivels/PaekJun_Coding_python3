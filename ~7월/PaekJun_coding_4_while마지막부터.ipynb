{
 "cells": [
  {
   "cell_type": "code",
   "execution_count": null,
   "metadata": {},
   "outputs": [],
   "source": [
    "'''EOF (End Of File)란 더 파일의 입력 데이터가 없음을 의미한다.\n",
    "그래서 정상적 입력이 주어지지 않을 때 예외처리를 해 주어야 한다\n",
    "예외처리는\n",
    "정상입력에 Try:\n",
    "예외입력에 except: 로 표기한다\n",
    "\n",
    "예시 코드는 아래와 같다\n",
    "'''\n",
    "while True:\n",
    "    try:\n",
    "        A,B=map(int,input().split())\n",
    "        print(A+B)\n",
    "    except ValueError:\n",
    "            print('입력값 오류')"
   ]
  },
  {
   "cell_type": "code",
   "execution_count": null,
   "metadata": {},
   "outputs": [],
   "source": [
    "N=str(input())\n",
    "i=0\n",
    "j=0\n",
    "X=[]\n",
    "Y=[]\n",
    "Z=[]             #X,Y,Z라는 결과값 리스트 선언\n",
    "\n",
    "if int(N)<10:    #예외로 10 이하일때 0과 덧셈\n",
    "    c=int(N)+0   #0 이하의 주어진 수와 0을 더함\n",
    "    a=0          #a에 0을 삽입\n",
    "    b=N[0]       #b에 주어진 수의 첫 자리를 삽입\n",
    "else:            #그 외 일반적 경우의 연산\n",
    "    a=N[0]\n",
    "    b=N[1]\n",
    "    a=int(a)\n",
    "    b=int(b)\n",
    "    c=a+b\n",
    "    print(c)\n",
    "\n",
    "while N!=c:\n",
    "    Z.append(c)   #Z라는 리스트에 결과값  c  저장\n",
    "    \n",
    "'''#while N!=c:\n",
    " #   A=b\n",
    "  #  B=c\n",
    "    \n",
    "\n",
    "  a    +    b    =    c\n",
    "            c[0] +    c[1]    =    d\n",
    "                      d[0]    +    d[1]    =    e\n",
    "                                   e[0]    +    e[1]    =    f\n",
    "                                          ....\n",
    "                                   \n",
    "\n",
    "                      ...\n",
    "결론은 해당 식의 두번째 인수와 결과값의 1의 자릿수를 자동 연산 하도록 하면 됨.\n",
    "ab          26\n",
    "a+b=c       2+6=8 -> 68\n",
    "b+c[1]=d    6+8=14-> 84\n",
    "\n",
    "d[0]+d[1]=e 8+4=12-> 42\n",
    "d[1]+e[1]   4+2=6 -> 26\n",
    "\n",
    "\n",
    "\n",
    "#a=int(a)\n",
    "#b=int(b)\n",
    "#c=a+b\n",
    "'''"
   ]
  },
  {
   "cell_type": "markdown",
   "metadata": {},
   "source": [
    "###### c=10\n",
    "a=[]"
   ]
  },
  {
   "cell_type": "code",
   "execution_count": null,
   "metadata": {},
   "outputs": [],
   "source": [
    "'''\n",
    "ex 26 으로 입력을 받으면\n",
    "2+6=8\n",
    "\n",
    "N=str(input())\n",
    "X=[]\n",
    "Y=[]\n",
    "\n",
    "6은 X로\n",
    "8은 Y로\n",
    "\n",
    "X.append(N[i])    6\n",
    "Y.append(N[i])    8\n",
    "\n",
    "\n",
    "그다음 스트링 연산으로 68을 만듦\n",
    "A=str(X[i])\n",
    "B=str(Y[i])\n",
    "C=A+B\n",
    "\n",
    "if 초깃값과 같아지면 break\n",
    "if C=N:\n",
    "    break\n",
    "    \n",
    "다시 인트 연산으로 6+8을 실행   6+8=14\n",
    "a=int(X[i])\n",
    "b=int(Y[i])\n",
    "c=a+b\n",
    "\n",
    "\n",
    "8은 X로\n",
    "4는 Y로\n",
    "\n",
    "스트링연산으로 84로 만듦\n",
    "if 초깃값과 같아지면 break\n",
    "다시 인트연산으로 8+4를 실행 8+4는 12\n",
    "\n",
    "4는 X로\n",
    "2는 Y로\n",
    "\n",
    "스트링연산으로 42로 만듦\n",
    "if 초깃값과 같아지면 break\n",
    "인트연산으로 4+2를 실행 4+2=6\n",
    "\n",
    "2는 X로\n",
    "6은 Y로\n",
    "\n",
    "스트링연산으로 26으로 만듦\n",
    "if 초깃값과 같아지면 break\n",
    "\n",
    "\n",
    "\n",
    "\n",
    "\n",
    "\n",
    "리스트는 두개가 필요함. X,Y\n",
    "그 다음\n",
    "첫번째 연산에서 두번째 인수는 X로 결과값은 Y로 append로 저장\n",
    "\n",
    "그 다음 str 연산으로 두개를 합침\n",
    "그러면 XY가 됨.\n",
    "\n",
    "여기서 다시 자료형을 int로 변환 후 X+Y를 실행\n",
    "그러면 다시 결과 값이 나옴\n",
    "'''"
   ]
  },
  {
   "cell_type": "code",
   "execution_count": null,
   "metadata": {},
   "outputs": [],
   "source": [
    "i=0\n",
    "X=[]\n",
    "Y=[]\n",
    "Z=[]\n",
    "R=[]\n",
    "int_sum=[]\n",
    "str_sum=[]\n",
    "str_com=[]\n",
    "int_com=[]\n",
    "\n",
    "\n",
    "N=str(input())\n",
    "\n",
    "if int(N)<10: #5 -> 0+5=5 -> 55 ->5+5=10 ->50 ->5+0=5\n",
    "    a1=0+int(N)   #0+5=5=a1\n",
    "    while N!=str_com and N!=int_com: #조건 검사\n",
    "        print(i)\n",
    "        str_sum[i]=str(N)+str(N)  #55\n",
    "        int_sum[i]=int(N)+int(N) #10\n",
    "        int_sum=str(int_sum)#아래의 결합을 위한 스트링으로의 변환\n",
    "        str_sum=str(str_sum)\n",
    "        \n",
    "        \n",
    "        str_com[i]=str_sum[i]+int_sum[i] #두번째 인수와 결과값의 결합 50\n",
    "        int_com[i]=str_com[i-1]+str_com[i-1] #결과값 두자리의 각각 덧셈 5\n",
    "        i=i+1\n",
    "\n",
    "print(len(int_com))\n",
    "    \n",
    "#else:\n",
    "#   st_sum=N                      #26\n",
    "#  int_sum=int(N[i])+int(N[i+1]) #2+6=8\n",
    "\n",
    "\n"
   ]
  },
  {
   "cell_type": "code",
   "execution_count": null,
   "metadata": {},
   "outputs": [],
   "source": [
    "str_sum=str(N)+str(N)  #55\n",
    "str_sum"
   ]
  },
  {
   "cell_type": "code",
   "execution_count": null,
   "metadata": {},
   "outputs": [],
   "source": [
    "list(str_sum)[0]"
   ]
  },
  {
   "cell_type": "code",
   "execution_count": null,
   "metadata": {},
   "outputs": [],
   "source": [
    "str_sum"
   ]
  },
  {
   "cell_type": "code",
   "execution_count": null,
   "metadata": {},
   "outputs": [],
   "source": [
    "i=0\n",
    "N=int(input())\n",
    "b=[]\n",
    "if N<10:\n",
    "    a=str(N)+str(N)\n",
    "    while N!=Y:\n",
    "        b=int(list(a)[i])+int(list(a)[i+1]) #덧셈의 결과 10\n",
    "        \n"
   ]
  },
  {
   "cell_type": "code",
   "execution_count": 1,
   "metadata": {},
   "outputs": [
    {
     "name": "stdout",
     "output_type": "stream",
     "text": [
      "22\n",
      "20\n"
     ]
    }
   ],
   "source": [
    "A=[]\n",
    "B=[]\n",
    "C=[]\n",
    "D=[]\n",
    "i=0\n",
    "N=str(input())\n",
    "if int(N)<10:\n",
    "    A.append(str('0')) #10 보다 작을때 0을 앞에 붙여준다\n",
    "    B.append(N[0])     #10 보다 작은수이기 때문에 그대로 B에 입력해준다\n",
    "    C.append(N[0])\n",
    "    D.append(str(B[0])+str(C[0]))\n",
    "else:\n",
    "    A.append(N[0]) #N의 10의자리가 들어감\n",
    "    B.append(N[1]) #N의 1의자리가 들어감\n",
    "    C.append(int(N[0])+int(N[1])) #N의 10의 자리와 1의자리의 합 =8\n",
    "    D.append(str(B[0])+str(C[0])) #B의 첫번째값 6과 C의 첫번째값의 결합 =68\n",
    "    \n",
    "while N!=D[i]:\n",
    "    A.append(str(D[i][0])) #결합값의 첫번째 값인 6이 A에 입력됨\n",
    "    B.append(str(D[i][1])) #결합값의 두번째 값인 8이 B에 입력됨\n",
    "    C.append(int(A[i+1])+int(B[i+1])) #14\n",
    "    C[i+1]=str(C[i+1])\n",
    "    if int(C[i+1])<10:\n",
    "        D.append(str(B[i+1])+str(C[i+1]))\n",
    "    else:\n",
    "        D.append(str(B[i+1])+str(C[i+1][1])) #84여야 하는데 814가 입력됨.\n",
    "    i=i+1\n",
    "\n",
    "print(len(D))\n"
   ]
  },
  {
   "cell_type": "code",
   "execution_count": null,
   "metadata": {},
   "outputs": [],
   "source": [
    "A"
   ]
  },
  {
   "cell_type": "code",
   "execution_count": null,
   "metadata": {},
   "outputs": [],
   "source": [
    "B"
   ]
  },
  {
   "cell_type": "code",
   "execution_count": null,
   "metadata": {
    "scrolled": true
   },
   "outputs": [],
   "source": [
    "C"
   ]
  },
  {
   "cell_type": "code",
   "execution_count": null,
   "metadata": {},
   "outputs": [],
   "source": [
    "D"
   ]
  },
  {
   "cell_type": "code",
   "execution_count": 8,
   "metadata": {},
   "outputs": [
    {
     "name": "stdout",
     "output_type": "stream",
     "text": [
      "26\n",
      "6\n",
      "8\n",
      "4\n",
      "2\n",
      "4\n"
     ]
    }
   ],
   "source": [
    "first_number = int(input())\n",
    "second_number = 0\n",
    "result_number = 0\n",
    "roof_counter = 1\n",
    "\n",
    "if not (0 <= first_number <= 99):\n",
    "    exit()\n",
    "\n",
    "number_checker = first_number\n",
    "\n",
    "while True:\n",
    "    second_number = first_number % 10\n",
    "    print(second_number)\n",
    "    first_number = int(first_number / 10)\n",
    "    result_number = first_number + second_number\n",
    "    first_number = (second_number * 10) + result_number % 10\n",
    "\n",
    "    if (number_checker == first_number):\n",
    "        break;\n",
    "    else:\n",
    "        roof_counter += 1\n",
    "\n",
    "print(roof_counter)\n"
   ]
  },
  {
   "cell_type": "code",
   "execution_count": 9,
   "metadata": {},
   "outputs": [
    {
     "data": {
      "text/plain": [
       "2"
      ]
     },
     "execution_count": 9,
     "metadata": {},
     "output_type": "execute_result"
    }
   ],
   "source": [
    "26//10"
   ]
  },
  {
   "cell_type": "code",
   "execution_count": 11,
   "metadata": {},
   "outputs": [
    {
     "data": {
      "text/plain": [
       "6"
      ]
     },
     "execution_count": 11,
     "metadata": {},
     "output_type": "execute_result"
    }
   ],
   "source": [
    "26%10"
   ]
  },
  {
   "cell_type": "code",
   "execution_count": 21,
   "metadata": {},
   "outputs": [
    {
     "name": "stdout",
     "output_type": "stream",
     "text": [
      "26\n"
     ]
    },
    {
     "ename": "TypeError",
     "evalue": "unsupported operand type(s) for %: 'list' and 'int'",
     "output_type": "error",
     "traceback": [
      "\u001b[0;31m---------------------------------------------------------------------------\u001b[0m",
      "\u001b[0;31mTypeError\u001b[0m                                 Traceback (most recent call last)",
      "\u001b[0;32m<ipython-input-21-cb611d16c16a>\u001b[0m in \u001b[0;36m<module>\u001b[0;34m\u001b[0m\n\u001b[1;32m      5\u001b[0m     \u001b[0mone\u001b[0m\u001b[0;34m=\u001b[0m\u001b[0mN\u001b[0m\u001b[0;34m%\u001b[0m\u001b[0;36m10\u001b[0m  \u001b[0;31m#1의자릿수     6\u001b[0m\u001b[0;34m\u001b[0m\u001b[0;34m\u001b[0m\u001b[0m\n\u001b[1;32m      6\u001b[0m     \u001b[0msumm\u001b[0m\u001b[0;34m=\u001b[0m\u001b[0mA\u001b[0m\u001b[0;34m+\u001b[0m\u001b[0mB\u001b[0m  \u001b[0;31m#지들끼리의 합  8\u001b[0m\u001b[0;34m\u001b[0m\u001b[0;34m\u001b[0m\u001b[0m\n\u001b[0;32m----> 7\u001b[0;31m     \u001b[0mN\u001b[0m\u001b[0;34m=\u001b[0m\u001b[0mint\u001b[0m\u001b[0;34m(\u001b[0m\u001b[0mstr\u001b[0m\u001b[0;34m(\u001b[0m\u001b[0mone\u001b[0m\u001b[0;34m%\u001b[0m\u001b[0;36m10\u001b[0m\u001b[0;34m)\u001b[0m\u001b[0;34m+\u001b[0m\u001b[0mstr\u001b[0m\u001b[0;34m(\u001b[0m\u001b[0msumm\u001b[0m\u001b[0;34m%\u001b[0m\u001b[0;36m10\u001b[0m\u001b[0;34m)\u001b[0m\u001b[0;34m)\u001b[0m\u001b[0;31m#68\u001b[0m\u001b[0;34m\u001b[0m\u001b[0;34m\u001b[0m\u001b[0m\n\u001b[0m\u001b[1;32m      8\u001b[0m     \u001b[0;31m#tmp = int(str(tmp%10)+str(res%10))\u001b[0m\u001b[0;34m\u001b[0m\u001b[0;34m\u001b[0m\u001b[0;34m\u001b[0m\u001b[0m\n\u001b[1;32m      9\u001b[0m     \u001b[0mcount\u001b[0m\u001b[0;34m+=\u001b[0m\u001b[0;36m1\u001b[0m\u001b[0;34m\u001b[0m\u001b[0;34m\u001b[0m\u001b[0m\n",
      "\u001b[0;31mTypeError\u001b[0m: unsupported operand type(s) for %: 'list' and 'int'"
     ]
    }
   ],
   "source": [
    "K=N=int(input())\n",
    "count=0\n",
    "while True:\n",
    "    ten=N//10 #10의자릿수    2\n",
    "    one=N%10  #1의자릿수     6\n",
    "    summ=A+B  #지들끼리의 합  8\n",
    "    N=int(str(one%10)+str(summ%10))#68\n",
    "    #tmp = int(str(tmp%10)+str(res%10))\n",
    "    count+=1\n",
    "    \n",
    "    if count ==100:\n",
    "        break\n",
    "        \n",
    "    if N==K:\n",
    "        print(count)"
   ]
  },
  {
   "cell_type": "code",
   "execution_count": 26,
   "metadata": {},
   "outputs": [
    {
     "name": "stdout",
     "output_type": "stream",
     "text": [
      "26\n",
      "10의자리 수 =2\n",
      "1의 자리 수 =6\n",
      "합계 =      8\n",
      "결과값 =    68\n",
      "------\n",
      "10의자리 수 =6\n",
      "1의 자리 수 =8\n",
      "합계 =      14\n",
      "결과값 =    84\n",
      "------\n",
      "10의자리 수 =8\n",
      "1의 자리 수 =4\n",
      "합계 =      12\n",
      "결과값 =    42\n",
      "------\n",
      "10의자리 수 =4\n",
      "1의 자리 수 =2\n",
      "합계 =      6\n",
      "결과값 =    26\n",
      "------\n",
      "4\n"
     ]
    }
   ],
   "source": [
    "tmp = inp = int(input())\n",
    "count = 0\n",
    "while True:\n",
    "    ten = tmp//10                      #2  #6\n",
    "    print('10의자리 수 ={}'.format(ten))\n",
    "    one = tmp%10                       #6  #8\n",
    "    print('1의 자리 수 ={}'.format(one))\n",
    "    res = ten + one                    #8  #14\n",
    "    print('합계 =      {}'.format(res))\n",
    "    count += 1\n",
    "    tmp = int(str(tmp%10)+str(res%10)) #68 #84\n",
    "    print('결과값 =    {}'.format(tmp))\n",
    "    print('------')\n",
    " \n",
    "    if (inp==tmp):\n",
    "        break\n",
    "print(count)"
   ]
  },
  {
   "cell_type": "code",
   "execution_count": null,
   "metadata": {},
   "outputs": [],
   "source": [
    "'''\n",
    "오늘의 정리\n",
    "\n",
    "일단 이 문제같은 경우엔 //와 % 연산을 사용해야 한다.\n",
    "그렇지만 나는 무식한 방법으로 문제를 풀었다.\n",
    "무려 6시간정도 동안\n",
    "\n",
    "문제점은 저장공간도 엄청나게 많이 차지했다 하나하나 과정을 리스트로 저장했기 때문에.\n",
    "그렇기에 저장할때는 변수를 최소한으로.\n",
    "모든 흔적을 출력해야하는것이 아니라면 굳이 리스트에 저장할 필요 없다.\n",
    "변수 하나에 새로 저장해가면서 계속 반복하면 해결할 수 있다.\n",
    "\n",
    "일단 이 문제같은 경우 완벽하게 이해되지 않았다.\n",
    "내일도 다시보고 모레도 다시보고 계속 다시보면서 이해하고 이 개념과 친해져야 할 듯 하다.\n",
    "\n",
    "치열하게 고민했으니 됐어\n",
    "내일도 이렇게만 하면 될거야.\n",
    "\n",
    "그들도 처음부터 이러한 방식을 바로 안 사람은 없을거야\n",
    "인생은 기출이야\n",
    "지금 이 어려움을 잘 기억해두고 내 것으로 만들어두면 \n",
    "나중에 이와 비슷한 혹은 더 어려운 개념이 나왔을 때, \n",
    "친해져 있던 개념을 활용해서 문제해결을 할 수 있을 것이다.\n",
    "'''"
   ]
  }
 ],
 "metadata": {
  "kernelspec": {
   "display_name": "Python 3",
   "language": "python",
   "name": "python3"
  },
  "language_info": {
   "codemirror_mode": {
    "name": "ipython",
    "version": 3
   },
   "file_extension": ".py",
   "mimetype": "text/x-python",
   "name": "python",
   "nbconvert_exporter": "python",
   "pygments_lexer": "ipython3",
   "version": "3.7.4"
  }
 },
 "nbformat": 4,
 "nbformat_minor": 4
}
