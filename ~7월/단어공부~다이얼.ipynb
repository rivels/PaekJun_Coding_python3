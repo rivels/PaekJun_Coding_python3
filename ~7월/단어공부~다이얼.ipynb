{
 "cells": [
  {
   "cell_type": "code",
   "execution_count": null,
   "metadata": {},
   "outputs": [],
   "source": [
    "ord('a')"
   ]
  },
  {
   "cell_type": "code",
   "execution_count": null,
   "metadata": {},
   "outputs": [],
   "source": [
    "ord('A')"
   ]
  },
  {
   "cell_type": "code",
   "execution_count": null,
   "metadata": {},
   "outputs": [],
   "source": [
    "S=str(input())\n",
    "scan=[] #스캔한 알파벳을 저장하는 리스트\n",
    "count=0 #스캔할때 이용할 카운트 변수\n",
    "A=[]    #개수를 저장하는 리스트\n",
    "a=0     #개수를 카운트하는 변수\n",
    "M=0     #최고 갯수가 나온 알파벳을 저장하는 변수\n",
    "S=S.lower()\n",
    "ML=[]   #역대 max 값들의 리스트\n",
    "for i in S:\n",
    "    if i in scan:\n",
    "        pass\n",
    "    elif i not in scan:\n",
    "        a=S.count(i)\n",
    "        scan.append(i)\n",
    "        A.append(a)\n",
    "        if a>=max(A):\n",
    "            M=str(i)\n",
    "            ML.append(a)\n",
    "for j in ML:    \n",
    "    if ML.count(max(ML))>1:\n",
    "        print('?')\n",
    "        break\n",
    "    else:\n",
    "        print(M.upper())\n",
    "        break\n"
   ]
  },
  {
   "cell_type": "code",
   "execution_count": null,
   "metadata": {},
   "outputs": [],
   "source": [
    "S=str(input())\n",
    "scan=[] #스캔한 알파벳을 저장하는 리스트\n",
    "count=0 #스캔할때 이용할 카운트 변수\n",
    "A=[]    #개수를 저장하는 리스트\n",
    "M=0     #최고 갯수가 나온 알파벳을 저장하는 변수\n",
    "S=S.lower()\n",
    "ML=[]   #역대 max 값들의 리스트\n",
    "for i in S:\n",
    "    if i in scan:\n",
    "        pass\n",
    "    else:\n",
    "        scan.append(i)\n",
    "        A.append(S.count(i))\n",
    "        if S.count(i)==max(A):\n",
    "            M=str(i)\n",
    "            ML.append(S.count(i))\n",
    "for j in ML:    \n",
    "    if ML.count(max(ML))>1: #max값들이 모인 리스트에서 다시한번\n",
    "        print('?')          #max값들을 카운트 해봤을 때, 2개 \n",
    "        break               #이상이라면 ?를 출력하도록 반복문 구성\n",
    "    else:\n",
    "        print(M.upper())\n",
    "        break\n",
    "'''\n",
    "문제는 랜덤으로 주어지는 str에서 가장 많이 쓰인 알파벳을 대문자로 출력하고\n",
    "만약 mississipi같이  i와 s가 4개로 동일하다면 ?를 출력하는 프로그램을\n",
    "작성하는 문제\n",
    "\n",
    "먼저 스캔했는지에 대한 여부를 체크하기 위한 리스트 scan을 선언\n",
    "단순 카운트를 위한 count변수\n",
    "알파벳들의 카운트를 실행하여 갯수를 저장하는 리스트 A\n",
    "->각 알파벳들이 몇개의 개수를 가졌었는지를 체크하기위해 리스트로 만듦\n",
    "가장 카운트가 높은 알파벳을 str으로 저장하는 변수 M\n",
    "S=S.lower()는 lower함수를 이용해서 주어진 랜덤 문자열을 모두 소문자로바꿈\n",
    "ML은 역대 max값들을 저장해놓은 리스트\n",
    "\n",
    "'''"
   ]
  },
  {
   "cell_type": "code",
   "execution_count": null,
   "metadata": {},
   "outputs": [],
   "source": [
    "import sys\n",
    "N=(sys.stdin.readline().split())\n",
    "print(len(N))"
   ]
  },
  {
   "cell_type": "code",
   "execution_count": null,
   "metadata": {},
   "outputs": [],
   "source": [
    "len(N)"
   ]
  },
  {
   "cell_type": "code",
   "execution_count": null,
   "metadata": {},
   "outputs": [],
   "source": [
    "N,M=input().split()\n",
    "if int(N)%10==int(M)%10:\n",
    "    if (int(N)//10)%10==(int(M)//10)%10:\n",
    "        if int(N)//100>int(M)//100:\n",
    "            print('{}{}{}'.format(N[2],N[1],N[0]))\n",
    "        else:\n",
    "            print('{}{}{}'.format(M[2],M[1],M[0]))\n",
    "    elif (int(N)//10)%10>(int(M)//10)%10:\n",
    "        print('{}{}{}'.format(N[2],N[1],N[0]))\n",
    "    else:\n",
    "            print('{}{}{}'.format(M[2],M[1],M[0]))\n",
    "elif int(N)%10>int(M)%10:\n",
    "    print('{}{}{}'.format(N[2],N[1],N[0]))\n",
    "else:\n",
    "    print('{}{}{}'.format(M[2],M[1],M[0]))"
   ]
  },
  {
   "cell_type": "code",
   "execution_count": null,
   "metadata": {},
   "outputs": [],
   "source": [
    "N,M=input().split()\n",
    "RN=N[2]+N[1]+N[0]\n",
    "RM=M[2]+M[1]+M[0]\n",
    "\n",
    "if RN>RM:\n",
    "    print(RN)\n",
    "else:\n",
    "    print(RM)"
   ]
  },
  {
   "cell_type": "code",
   "execution_count": 50,
   "metadata": {
    "scrolled": false
   },
   "outputs": [
    {
     "name": "stdout",
     "output_type": "stream",
     "text": [
      "UUU\n"
     ]
    }
   ],
   "source": [
    "N=input()\n",
    "L=list(N)\n",
    "A=B=C=3\n",
    "D=E=F=4\n",
    "G=H=I=5\n",
    "J=K=L=6\n",
    "M=N=O=7\n",
    "P=Q=R=S=8\n",
    "T=U=V=9\n",
    "W=X=Y=Z=10\n",
    "\n",
    "for i in L:\n",
    "    "
   ]
  },
  {
   "cell_type": "code",
   "execution_count": 96,
   "metadata": {},
   "outputs": [
    {
     "name": "stdout",
     "output_type": "stream",
     "text": [
      "UNUCIC\n",
      "U\n",
      "N\n",
      "U\n",
      "C\n",
      "I\n",
      "C\n"
     ]
    }
   ],
   "source": [
    "N=input()\n",
    "L=list(N)\n",
    "M={'A':3,'B':3,'C':3,'D':4,'E':4,'F':4,'G':5,'H':5,'I':5,'J':6,'K':6,'L':6,'M':7,'N':7,'O':7,'P':8,'Q':8,'R':8,'S':8,'T':9,'U':9,'V':9,'W':10,'X':10,'Y':10,'Z':10}\n",
    "S=0\n",
    "for i in L:\n",
    "    if str(i) in M.keys():\n",
    "        S=S+M.get(str(i))\n",
    "print(S)\n",
    "'''\n",
    "딕셔너리를 활용해서 푼 문제... 매우 찜찜하다\n",
    "분명히 더 효율적이고 수작업 없이 풀 수 있을 듯 하다.\n",
    "오늘 집에가서 고민해보고 내일 다시 보자\n",
    "\n",
    "이 문제에 대해서 처음 사용한 기능은\n",
    ".keys() 와 .get() 인데\n",
    "전자는 앞에 있는 딕셔너리 변수의 키 값들을 볼 수 있다.\n",
    "후자는 괄호안에 있는 키 값에 대한 value 값을 뽑아낼 수 있다.\n",
    "'''"
   ]
  },
  {
   "cell_type": "code",
   "execution_count": 97,
   "metadata": {},
   "outputs": [
    {
     "data": {
      "text/plain": [
       "36"
      ]
     },
     "execution_count": 97,
     "metadata": {},
     "output_type": "execute_result"
    }
   ],
   "source": [
    "S"
   ]
  },
  {
   "cell_type": "code",
   "execution_count": 22,
   "metadata": {},
   "outputs": [
    {
     "data": {
      "text/plain": [
       "''"
      ]
     },
     "execution_count": 22,
     "metadata": {},
     "output_type": "execute_result"
    }
   ],
   "source": [
    "'''\n",
    "일단... 각 알파벳들의 소요시간을 설정해야해\n",
    "알파벳들의 소요시간을 어떻게 설정할까\n",
    "1. a to z 까지 변수마다 수를 설정해서 그 수들을 다 더하면 됨.\n",
    "2. \n",
    "'''"
   ]
  },
  {
   "cell_type": "code",
   "execution_count": 71,
   "metadata": {},
   "outputs": [
    {
     "data": {
      "text/plain": [
       "'ABCDEFGHIJKLMNOPQRSTUVWXYZ'"
      ]
     },
     "execution_count": 71,
     "metadata": {},
     "output_type": "execute_result"
    }
   ],
   "source": [
    "import string\n",
    "string.ascii_uppercase"
   ]
  },
  {
   "cell_type": "code",
   "execution_count": null,
   "metadata": {},
   "outputs": [],
   "source": []
  }
 ],
 "metadata": {
  "kernelspec": {
   "display_name": "Python 3",
   "language": "python",
   "name": "python3"
  },
  "language_info": {
   "codemirror_mode": {
    "name": "ipython",
    "version": 3
   },
   "file_extension": ".py",
   "mimetype": "text/x-python",
   "name": "python",
   "nbconvert_exporter": "python",
   "pygments_lexer": "ipython3",
   "version": "3.7.4"
  }
 },
 "nbformat": 4,
 "nbformat_minor": 4
}
