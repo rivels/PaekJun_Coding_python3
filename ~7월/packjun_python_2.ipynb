{
 "cells": [
  {
   "cell_type": "code",
   "execution_count": null,
   "metadata": {},
   "outputs": [],
   "source": [
    "\n",
    "a,b=map(int,input().split())\n",
    "if a>b:\n",
    "    print('>')\n",
    "elif a<b: #else 다음에는 조건문이 나올 수 없다. 조건문을 넣으려면 elif를 사용하자\n",
    "    print('<')\n",
    "else:\n",
    "    print('==')\n",
    "    \n",
    "'''튜플과 리스트의 차이점\n",
    "튜플은 (), 리스트는 []\n",
    "튜플은 수정 삭제 등이 불가능하고 \n",
    "리스트는 가능하다\n",
    "\n",
    "\n",
    "'''"
   ]
  },
  {
   "cell_type": "code",
   "execution_count": null,
   "metadata": {},
   "outputs": [],
   "source": [
    "s=input()\n",
    "s=int(s)\n",
    "if s>89:\n",
    "    print(\"A\")\n",
    "elif s>79:\n",
    "    print(\"B\")\n",
    "elif s>69:\n",
    "    print(\"C\")\n",
    "elif s>59:\n",
    "    print(\"D\")\n",
    "else:\n",
    "    print(\"F\")"
   ]
  },
  {
   "cell_type": "code",
   "execution_count": null,
   "metadata": {},
   "outputs": [],
   "source": [
    "#윤년구하기 문제\n",
    "y=int(input()) #input으로 입력을 받으면 str로 됨 so 형변환이 필요할듯.\n",
    "\n",
    "if (y%4==0 and y%100 != 0) or y%400==0:\n",
    "    print(\"1\")\n",
    "else:\n",
    "    print('0')"
   ]
  },
  {
   "cell_type": "code",
   "execution_count": null,
   "metadata": {},
   "outputs": [],
   "source": [
    "\n",
    "x=int(input())\n",
    "y=int(input())\n",
    "\n",
    "if x>0:\n",
    "    if y>0:\n",
    "        print(1)\n",
    "    else:\n",
    "        print(4)\n",
    "if x<0:\n",
    "    if y>0:\n",
    "        print(2)\n",
    "    else:\n",
    "        print(3)"
   ]
  },
  {
   "cell_type": "code",
   "execution_count": null,
   "metadata": {},
   "outputs": [],
   "source": [
    "H,M=input().split()\n",
    "H=int(H)\n",
    "M=int(M)\n",
    "\n",
    "    \n",
    "if H>0 and (M>45 or M==45): #시간이 마이너스되지 않고 분만 마이너스 될 때\n",
    "    M-=45\n",
    "    print(H,M)\n",
    "    \n",
    "elif H==0 and M<44:\n",
    "    H=23\n",
    "    M+=15\n",
    "    print(H,M)\n",
    "\n",
    "elif M<45: #시간이 마이너스되어 분이 오히려 늘어날 때\n",
    "    H=H-1\n",
    "    if H==-1:\n",
    "        H=23\n",
    "    M+=15\n",
    "    print(H,M)\n",
    "\n",
    "    \n",
    "else:\n",
    "    M-=45\n",
    "    print(H,M)"
   ]
  },
  {
   "cell_type": "code",
   "execution_count": null,
   "metadata": {},
   "outputs": [],
   "source": [
    "N=input()\n",
    "\n",
    "for i in range 1,9:\n",
    "    print(N\"*\"i\"=\"N*i)"
   ]
  },
  {
   "cell_type": "code",
   "execution_count": null,
   "metadata": {},
   "outputs": [],
   "source": [
    "N=int(input())\n",
    "\n",
    "\n",
    "for i in range(1,10): #i는 range의 마지막 수에 도달하면 실행하지않고 break후 나간다\n",
    "    print(N,'*',i,'=',N*i)\n",
    "#print문을 일반 문자열과 변수를 동시에 출력하려면. 변수와 일반 출력할 문자열 사이에 콜론이 필요"
   ]
  },
  {
   "cell_type": "code",
   "execution_count": null,
   "metadata": {},
   "outputs": [],
   "source": [
    "# \"\"\"으로 입력하면 줄 바꿈까지 모두 동일하게 출력됨!\"\"\"\n",
    "print(\"\"\"a \n",
    "b\n",
    "c\"\"\")\n"
   ]
  },
  {
   "cell_type": "code",
   "execution_count": null,
   "metadata": {},
   "outputs": [],
   "source": [
    "T=int(input())\n",
    "for i in range(T):\n",
    "    A,B=input().split()\n",
    "    print(int(A)+int(B))"
   ]
  },
  {
   "cell_type": "code",
   "execution_count": null,
   "metadata": {},
   "outputs": [],
   "source": [
    "n=int(input())\n",
    "                #range(n)은 n까지 실행하고 n을 초과하면 실행하지 않고 break!\n",
    "                #range(x,y)는 y전 까지만 실행하고 y때 braek!\n",
    "for i in range(n):\n",
    "    n=i+n\n",
    "print(n)\n",
    "    \n",
    "import sys"
   ]
  },
  {
   "cell_type": "code",
   "execution_count": null,
   "metadata": {},
   "outputs": [],
   "source": [
    "import sys\n",
    "\n",
    "T=int(input())\n",
    "\n",
    "for i in range(T):\n",
    "    a,b=map(int,sys.stdin.readline().split())\n",
    "    print(a + b)\n",
    "'''\n",
    "sys.stdin.readline()이라는 함수는 입력을 받는 함수인데 input 보다 빠르고\n",
    "가벼운 함수'''"
   ]
  },
  {
   "cell_type": "code",
   "execution_count": null,
   "metadata": {},
   "outputs": [],
   "source": [
    "N=int(input())\n",
    "\n",
    "for i in range(1,N+1):\n",
    "    print(i)"
   ]
  },
  {
   "cell_type": "code",
   "execution_count": null,
   "metadata": {},
   "outputs": [],
   "source": [
    "N=int(input())\n",
    "\n",
    "for i in range(1,N+1):\n",
    "    print(N)\n",
    "    N-=1"
   ]
  },
  {
   "cell_type": "code",
   "execution_count": null,
   "metadata": {},
   "outputs": [],
   "source": []
  },
  {
   "cell_type": "code",
   "execution_count": 18,
   "metadata": {},
   "outputs": [
    {
     "name": "stdout",
     "output_type": "stream",
     "text": [
      "1\n",
      "2 2\n",
      "Case # 1 : 4\n"
     ]
    }
   ],
   "source": [
    "T=int(input())\n",
    "\n",
    "for i in range(1,T+1):\n",
    "    a,b=map(int,input().split())\n",
    "    print('Case #',i,':',a+b)"
   ]
  },
  {
   "cell_type": "code",
   "execution_count": 27,
   "metadata": {},
   "outputs": [
    {
     "name": "stdout",
     "output_type": "stream",
     "text": [
      "4\n",
      "1 3\n",
      "Case #1: 4\n",
      "3 3\n",
      "Case #2: 6\n",
      "4 4\n",
      "Case #3: 8\n",
      "5 5\n",
      "Case #4: 10\n"
     ]
    }
   ],
   "source": [
    "t=int(input())\n",
    "\n",
    "for i in range(1,t+1):\n",
    "    a,b=map(int,input().split())\n",
    "    print('Case #{}: {}'.format(i,a+b))\n",
    "#띄어쓰기의 차이가 오답이라고 나온 듯.\n",
    "#print문을 출력할땐 {}와 .format()을 쓰자"
   ]
  },
  {
   "cell_type": "markdown",
   "metadata": {},
   "source": [
    "#### t=int(input())\n",
    "\n",
    "for i in range(1,t+1):\n",
    "    a,b=map(int,input().split())\n",
    "    print(type(a))"
   ]
  },
  {
   "cell_type": "code",
   "execution_count": null,
   "metadata": {},
   "outputs": [],
   "source": [
    " #   print('Case #',i,':',a+b)"
   ]
  }
 ],
 "metadata": {
  "kernelspec": {
   "display_name": "Python 3",
   "language": "python",
   "name": "python3"
  },
  "language_info": {
   "codemirror_mode": {
    "name": "ipython",
    "version": 3
   },
   "file_extension": ".py",
   "mimetype": "text/x-python",
   "name": "python",
   "nbconvert_exporter": "python",
   "pygments_lexer": "ipython3",
   "version": "3.7.4"
  }
 },
 "nbformat": 4,
 "nbformat_minor": 4
}
