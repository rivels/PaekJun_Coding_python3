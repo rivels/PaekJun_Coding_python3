{
 "cells": [
  {
   "cell_type": "code",
   "execution_count": 36,
   "metadata": {},
   "outputs": [
    {
     "name": "stdout",
     "output_type": "stream",
     "text": [
      "ljes=njak\n",
      "9\n"
     ]
    }
   ],
   "source": [
    "a=input()\n",
    "Croa=['c=','c-','dz=','d-','lj','nj','s=','z=']\n",
    "b=''\n",
    "\n",
    "L=len(a)\n",
    "for i in a:\n",
    "    if i=='c' or i=='d' or i=='l' or i=='n' or i=='s' or i=='z':\n",
    "        b=b+i\n",
    "        if b in Croa:\n",
    "            L=L-1\n",
    "            print(b)\n",
    "            b=''\n",
    "    else:\n",
    "        continue\n",
    "\n",
    "print(L)"
   ]
  },
  {
   "cell_type": "code",
   "execution_count": 40,
   "metadata": {},
   "outputs": [],
   "source": [
    "k='hello world'\n",
    "k=k.replace('hello','fuck')"
   ]
  },
  {
   "cell_type": "code",
   "execution_count": 45,
   "metadata": {},
   "outputs": [
    {
     "name": "stdout",
     "output_type": "stream",
     "text": [
      "c=c=\n",
      "2\n"
     ]
    }
   ],
   "source": [
    "a=input()\n",
    "a=a.replace('c=','c')\n",
    "a=a.replace('c-','c')\n",
    "a=a.replace('dz=','d')\n",
    "a=a.replace('d-','d')\n",
    "a=a.replace('lj','l')\n",
    "a=a.replace('nj','n')\n",
    "a=a.replace('s=','s')\n",
    "a=a.replace('z=','z')\n",
    "print(len(a))"
   ]
  },
  {
   "cell_type": "code",
   "execution_count": null,
   "metadata": {},
   "outputs": [],
   "source": []
  }
 ],
 "metadata": {
  "kernelspec": {
   "display_name": "Python 3",
   "language": "python",
   "name": "python3"
  },
  "language_info": {
   "codemirror_mode": {
    "name": "ipython",
    "version": 3
   },
   "file_extension": ".py",
   "mimetype": "text/x-python",
   "name": "python",
   "nbconvert_exporter": "python",
   "pygments_lexer": "ipython3",
   "version": "3.7.4"
  }
 },
 "nbformat": 4,
 "nbformat_minor": 4
}
