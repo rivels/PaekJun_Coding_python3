{
 "cells": [
  {
   "cell_type": "code",
   "execution_count": null,
   "metadata": {},
   "outputs": [],
   "source": [
    "N=[]\n",
    "M=[]\n",
    "for i in range(10):\n",
    "    N.append(int(input()))\n",
    "    M.append(N[i]%42)\n",
    "M=set(M)\n",
    "print(len(M))\n",
    "''' set()의 특징!\n",
    "1. 중복을 허용하지 않는다.\n",
    "-> 리스트에 중복을 포함하지 않고 고유한 데이터가 몇개인지 셀 때 사용했음.\n",
    "2. set 내부에 있는 값(value) 들은 순서가 존재하지 않는다. (unordered)\n",
    "\n",
    "'''"
   ]
  },
  {
   "cell_type": "code",
   "execution_count": null,
   "metadata": {},
   "outputs": [],
   "source": [
    "N=int(input())\n",
    "M=[]\n",
    "M=map(int,input().split())\n",
    "M=list(M)\n",
    "Max=max(M)\n",
    "Sum=0\n",
    "\n",
    "for j in range(N):\n",
    "    M[j]=int(M[j])/Max*100\n",
    "    Sum=Sum+M[j]\n",
    "print(Sum/len(M))\n",
    "    "
   ]
  },
  {
   "cell_type": "code",
   "execution_count": null,
   "metadata": {},
   "outputs": [],
   "source": [
    "M"
   ]
  },
  {
   "cell_type": "code",
   "execution_count": null,
   "metadata": {},
   "outputs": [],
   "source": [
    "50/70*100"
   ]
  },
  {
   "cell_type": "code",
   "execution_count": null,
   "metadata": {},
   "outputs": [],
   "source": [
    "'''\n",
    "dict은\n",
    "key와 value로 이루어져 있다\n",
    "ex)\n",
    "song={'name':'kang song','height':178,....}\n",
    "중괄호로 넣어서 표기하고\n",
    "키 하나에 여러개의 value가 들어갈 수 있다.\n",
    "\n",
    "song.keys() 함수는 키들을 쭉보여준다\n",
    "\n",
    "'name' in song 으로 키를 검색할 수 있다.\n",
    "song={'name':'kang','height':178,'marry':'no','address':'kyung gi do sung nam',None:''}\n",
    "\n",
    "song.items() 함수는 dict_items 형식으로 쭈욱 보여줌\n",
    "\n",
    "검색시엔 'name' in song 과 같이 하면 된다. key를 검색해야함\n",
    "'''"
   ]
  },
  {
   "cell_type": "code",
   "execution_count": null,
   "metadata": {},
   "outputs": [],
   "source": [
    "list(M)"
   ]
  },
  {
   "cell_type": "code",
   "execution_count": null,
   "metadata": {},
   "outputs": [],
   "source": [
    "x={1:10}"
   ]
  },
  {
   "cell_type": "code",
   "execution_count": null,
   "metadata": {},
   "outputs": [],
   "source": [
    "song={'name':'kang','height':178,'marry':'no','address':'kyung gi do sung nam',None:''}"
   ]
  },
  {
   "cell_type": "code",
   "execution_count": null,
   "metadata": {},
   "outputs": [],
   "source": [
    "type(song.items())"
   ]
  },
  {
   "cell_type": "code",
   "execution_count": null,
   "metadata": {},
   "outputs": [],
   "source": [
    "None in song"
   ]
  },
  {
   "cell_type": "code",
   "execution_count": null,
   "metadata": {},
   "outputs": [],
   "source": [
    "N=int(input())\n",
    "M='0'\n",
    "T_score=0\n",
    "A_score=0\n",
    "add=0\n",
    "for i in range(N):\n",
    "    M=str(input())  #OOXXOXXOOO 를 입력으로 받은 상태\n",
    "    for j in range(len(M)):\n",
    "        if M[j]=='O':\n",
    "            add+=1\n",
    "        elif M[j]=='X':\n",
    "            add=0\n",
    "        T_score+=add\n",
    "        \n",
    "        #print('T_score는 {},add는 {}'.format(str(T_score),str(add)))\n",
    "    print(T_score)\n",
    "    T_score=0\n",
    "    add=0\n",
    "    \n",
    "'''\n",
    "OX문제의 점수 구하기 문제\n",
    "O가 연속 될 수록 점수가 증가하는 룰이고\n",
    "입력때마다 출력을 해야하기 때문에 for문 싸이클 한번에 입력과 연산 , 결과값 출력까지\n",
    "포함되도록 코드를 짰다.\n",
    "\n",
    "for문은 두개로,\n",
    "하나는 입력을 받는 for문과\n",
    "O가 인접했는지 확인하는 for문으로 구성\n",
    "\n",
    "두번째 for문에는 if문을 활용해서 O가 연속되면 add변수가 반복되어 증가하도록 했고\n",
    "만약 x가 나오면 add변수를 0으로 초기화 시켰음\n",
    "\n",
    "'''"
   ]
  },
  {
   "cell_type": "code",
   "execution_count": 17,
   "metadata": {},
   "outputs": [
    {
     "name": "stdout",
     "output_type": "stream",
     "text": [
      "1\n",
      "3 40 50 60\n",
      "33.333%\n"
     ]
    },
    {
     "data": {
      "text/plain": [
       "\"\\n평균은 넘겠지 라는 문제.\\n\\n처음 테스트 케이스 갯수를 받고,\\n두번째 부터는 각 케이스에 대한 데이터가 입력되는데 그 중 첫번째 데이터는\\n해당 테스트 케이스 개체의 갯수이고 그 이후엔 점수가 하나의 간격을 두고 데이터가 주어진다\\n그리고 각 테스트케이스마다의 평균을 구하고 그에대한 평균을 넘은 카운트를 세고\\n그 카운트가 전체 데이터의 몇퍼센트를 차지했는지를 나타냈던 문제\\n\\n이전과 비슷한 형식으로 먼저 for문으로 반복적으로 입력을 받고\\n입력을 받자마자 출력을 내야하기 때문에 해당 for문 안에서 계산을 끝내고 출력을 해 내야함\\n문제자체는 그리 어렵지 않았음. 평균과 총합을 반복문을통해 구하고 \\n그 값들을 활용해서 %로 표현함\\n% 표현 방법은\\nprint('%0.3f%%'%P)로\\n0.3은 몇번째 자릿수 까지 나타낼 것 인지,\\n\\n퍼센트 표시 인자는 %0.3f% 임\\n\\n\""
      ]
     },
     "execution_count": 17,
     "metadata": {},
     "output_type": "execute_result"
    }
   ],
   "source": [
    "N=int(input())\n",
    "M=[]\n",
    "avg=S=0\n",
    "count=0\n",
    "for i in range(N):\n",
    "    M=map(int,input().split())\n",
    "    M=list(M)\n",
    "    for j in range(int(M[0])):\n",
    "        S=int(M[j+1])+S\n",
    "        avg=S/M[0]\n",
    "\n",
    "\n",
    "    for k in range(int(M[0])):\n",
    "        if M[k+1]>avg:\n",
    "            count+=1\n",
    "\n",
    "\n",
    "    P=(count/M[0])*100\n",
    "    print(\"%0.3f%%\"%P)\n",
    "    count=0\n",
    "    S=0\n",
    "    avg=0\n",
    "    P=0\n",
    "'''\n",
    "평균은 넘겠지 라는 문제.\n",
    "\n",
    "처음 테스트 케이스 갯수를 받고,\n",
    "두번째 부터는 각 케이스에 대한 데이터가 입력되는데 그 중 첫번째 데이터는\n",
    "해당 테스트 케이스 개체의 갯수이고 그 이후엔 점수가 하나의 간격을 두고 데이터가 주어진다\n",
    "그리고 각 테스트케이스마다의 평균을 구하고 그에대한 평균을 넘은 카운트를 세고\n",
    "그 카운트가 전체 데이터의 몇퍼센트를 차지했는지를 나타냈던 문제\n",
    "\n",
    "이전과 비슷한 형식으로 먼저 for문으로 반복적으로 입력을 받고\n",
    "입력을 받자마자 출력을 내야하기 때문에 해당 for문 안에서 계산을 끝내고 출력을 해 내야함\n",
    "문제자체는 그리 어렵지 않았음. 평균과 총합을 반복문을통해 구하고 \n",
    "그 값들을 활용해서 %로 표현함\n",
    "% 표현 방법은\n",
    "print('%0.3f%%'%P)로\n",
    "0.3은 몇번째 자릿수 까지 나타낼 것 인지,\n",
    "\n",
    "퍼센트 표시 인자는 %0.3f%%와 같은 형식으로 표현하고 그 이후에 %P와 같은 해당 변수를\n",
    "입력해주면 됨.\n",
    "\n",
    "'''"
   ]
  },
  {
   "cell_type": "code",
   "execution_count": 7,
   "metadata": {},
   "outputs": [
    {
     "data": {
      "text/plain": [
       "80.33333333333333"
      ]
     },
     "execution_count": 7,
     "metadata": {},
     "output_type": "execute_result"
    }
   ],
   "source": [
    "(70+90+81)/3"
   ]
  },
  {
   "cell_type": "code",
   "execution_count": null,
   "metadata": {},
   "outputs": [],
   "source": []
  }
 ],
 "metadata": {
  "kernelspec": {
   "display_name": "Python 3",
   "language": "python",
   "name": "python3"
  },
  "language_info": {
   "codemirror_mode": {
    "name": "ipython",
    "version": 3
   },
   "file_extension": ".py",
   "mimetype": "text/x-python",
   "name": "python",
   "nbconvert_exporter": "python",
   "pygments_lexer": "ipython3",
   "version": "3.7.4"
  }
 },
 "nbformat": 4,
 "nbformat_minor": 4
}
