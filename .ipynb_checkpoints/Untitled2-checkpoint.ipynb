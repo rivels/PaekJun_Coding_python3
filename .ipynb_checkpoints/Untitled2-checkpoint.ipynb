{
 "cells": [
  {
   "cell_type": "code",
   "execution_count": 71,
   "metadata": {},
   "outputs": [
    {
     "name": "stdout",
     "output_type": "stream",
     "text": [
      "4 9\n",
      "1 2 3 4\n",
      "1 2 3\n",
      "1 2 4\n",
      "1 3 2\n",
      "1 3 4\n",
      "1 4 2\n",
      "1 4 3\n",
      "8\n"
     ]
    }
   ],
   "source": [
    "c,n=map(int,input().split())\n",
    "a=list(map(int,input().split()))\n",
    "A=[]\n",
    "for i in a:\n",
    "    for j in a:\n",
    "        for k in a:\n",
    "            if (i!=j and i!=k and j!=k) and i+j+k==n:\n",
    "                A.append(abs(n-(i+j+k)))\n",
    "                print(i+j+k)\n",
    "                break\n",
    "            elif (i!=j and i!=k and j!=k):\n",
    "                A.append(abs(n-(i+j+k)))\n",
    "                print(i,j,k)\n",
    "\n",
    "        if i+j+k==n:\n",
    "            break\n",
    "    if i+j+k==n:\n",
    "        break\n",
    "if 0 not in A:\n",
    "    print(n-min(A))\n"
   ]
  },
  {
   "cell_type": "code",
   "execution_count": 62,
   "metadata": {},
   "outputs": [
    {
     "data": {
      "text/plain": [
       "[5, 6, 7, 8, 9]"
      ]
     },
     "execution_count": 62,
     "metadata": {},
     "output_type": "execute_result"
    }
   ],
   "source": [
    "a"
   ]
  },
  {
   "cell_type": "code",
   "execution_count": 68,
   "metadata": {},
   "outputs": [
    {
     "data": {
      "text/plain": [
       "[3, 2, 3, 1, 2, 1]"
      ]
     },
     "execution_count": 68,
     "metadata": {},
     "output_type": "execute_result"
    }
   ],
   "source": [
    "A"
   ]
  },
  {
   "cell_type": "code",
   "execution_count": 153,
   "metadata": {},
   "outputs": [
    {
     "name": "stdout",
     "output_type": "stream",
     "text": [
      "5 21\n",
      "5 6 7 8 9\n",
      "21\n"
     ]
    }
   ],
   "source": [
    "from itertools import combinations\n",
    "c,n=map(int,input().split())\n",
    "a=list(map(int,input().split()))\n",
    "A=[]\n",
    "for i in a:\n",
    "    for j in a:\n",
    "        for k in a:\n",
    "            if i==j or i==k or j==k:\n",
    "                pass\n",
    "            elif (i!=j and i!=k and j!=k) and i+j+k not in A:\n",
    "                A.append(abs(n-(i+j+k)))\n",
    "if 0 not in A:\n",
    "    print(n-min(A))\n",
    "else:\n",
    "    print(n)"
   ]
  },
  {
   "cell_type": "markdown",
   "metadata": {},
   "source": [
    "## from itertools import combinations\n",
    "\n",
    "while True:\n",
    "    num = list(map(int,input().split()))\n",
    "    if num[0]==0:\n",
    "        break\n",
    "    for i in combinations(num[0:],3):\n",
    "        print(' '.join(map(str,i)))\n",
    "    \n",
    "    print()"
   ]
  },
  {
   "cell_type": "code",
   "execution_count": 155,
   "metadata": {},
   "outputs": [
    {
     "name": "stdout",
     "output_type": "stream",
     "text": [
      "5 21\n",
      "5 6 7 8 9\n",
      "21\n"
     ]
    }
   ],
   "source": [
    "from itertools import combinations\n",
    "c,n=map(int,input().split())\n",
    "A=list(map(int,input().split()))\n",
    "C=[]\n",
    "for i in combinations(A[0:],3):\n",
    "    if i[0]+i[1]+i[2]==n:\n",
    "        C.append(abs(n-(i[0]+i[1]+i[2])))\n",
    "        print(i)\n",
    "        break\n",
    "    elif i[0]+i[1]+i[2]<n:\n",
    "        C.append(abs(n-(i[0]+i[1]+i[2])))\n",
    "if 0 in C:\n",
    "    print(n)\n",
    "else:\n",
    "    print(n-min(C))\n",
    "'''\n",
    "브루트알고리즘. 무식하게 모든 경우의수를 다 거쳐가는 알고리즘이다.\n",
    "알고리즘의 정의는 그러하지만 실제로 내가 해봤을 때,\n",
    "시간초과가 나와서 브루트 알고리즘을 실행할 수 있는 라이브러리를 가져다 썼다.\n",
    "\n",
    "from itertools import combinations\n",
    "라는 코드로 import했고 \n",
    "\n",
    "for i in combinations(A[0:],3)\n",
    "위 코드는 A리스트의 0번째 인덱스 값부터 3개를 combination으로 뽑겠다\n",
    "라는 뜻으로 이해하면 된다.\n",
    "그래서 주어진 카드들을 첫번째 부터 세개를 뽑아서 수를 조합해서 \n",
    "결론을 도출해내야 했던 문제\n",
    "'''"
   ]
  },
  {
   "cell_type": "code",
   "execution_count": 160,
   "metadata": {},
   "outputs": [
    {
     "name": "stdout",
     "output_type": "stream",
     "text": [
      "198\n",
      "216\n"
     ]
    }
   ],
   "source": [
    "n=N=int(input())\n",
    "a=0\n",
    "N=str(N)\n",
    "for i in N:\n",
    "    a=a+int(i)\n",
    "print(a+int(N))"
   ]
  },
  {
   "cell_type": "code",
   "execution_count": 166,
   "metadata": {},
   "outputs": [
    {
     "name": "stdout",
     "output_type": "stream",
     "text": [
      "216\n",
      "198\n"
     ]
    }
   ],
   "source": [
    "n=N=int(input())\n",
    "a=k=p=0\n",
    "while a<n:\n",
    "    a=str(a)\n",
    "    for i in a:\n",
    "        k=k+int(i)\n",
    "    k=int(a)+k\n",
    "    if k==N:\n",
    "        print(a)\n",
    "        p=1\n",
    "        break\n",
    "    else:\n",
    "        k=0\n",
    "        a=int(a)\n",
    "        a+=1\n",
    "if p==0:\n",
    "    print(0)\n"
   ]
  },
  {
   "cell_type": "code",
   "execution_count": null,
   "metadata": {},
   "outputs": [],
   "source": []
  }
 ],
 "metadata": {
  "kernelspec": {
   "display_name": "Python 3",
   "language": "python",
   "name": "python3"
  },
  "language_info": {
   "codemirror_mode": {
    "name": "ipython",
    "version": 3
   },
   "file_extension": ".py",
   "mimetype": "text/x-python",
   "name": "python",
   "nbconvert_exporter": "python",
   "pygments_lexer": "ipython3",
   "version": "3.7.4"
  }
 },
 "nbformat": 4,
 "nbformat_minor": 4
}
