{
 "cells": [
  {
   "cell_type": "code",
   "execution_count": null,
   "metadata": {},
   "outputs": [],
   "source": [
    "import sys\n",
    "\n",
    "X=map(str,sys.stdin.readline())\n",
    "\n",
    "print(X)"
   ]
  },
  {
   "cell_type": "code",
   "execution_count": null,
   "metadata": {},
   "outputs": [],
   "source": [
    "import sys\n",
    "\n",
    "n=int(input())\n",
    "k=[sys.stdin.readline() for x in range(n)]\n",
    "\n",
    "p=[sys.stdin.readline() for y in k]"
   ]
  },
  {
   "cell_type": "code",
   "execution_count": null,
   "metadata": {},
   "outputs": [],
   "source": [
    "k=[6,7,8,9,10]"
   ]
  },
  {
   "cell_type": "code",
   "execution_count": null,
   "metadata": {
    "scrolled": true
   },
   "outputs": [],
   "source": [
    "for i in k:\n",
    "    print(i)\n",
    "    print('k[{}]'.format(i))"
   ]
  },
  {
   "cell_type": "code",
   "execution_count": null,
   "metadata": {},
   "outputs": [],
   "source": [
    "print(p[0])\n",
    "print(k[0])"
   ]
  },
  {
   "cell_type": "code",
   "execution_count": null,
   "metadata": {},
   "outputs": [],
   "source": [
    "print(p)\n",
    "print(k)"
   ]
  },
  {
   "cell_type": "code",
   "execution_count": null,
   "metadata": {},
   "outputs": [],
   "source": [
    "A=input()\n",
    "\n",
    "if type(A)==type(str(A)):\n",
    "    print(ord(A))\n",
    "elif type(A)==type(int(A)):\n",
    "    print(chr(A))\n",
    "    \n",
    "    \n",
    "'''\n",
    "ord() == 문자열을 아스키 코드의 번호로 바꾸어줌\n",
    "chr() == 숫자를 아스키 코드의 번호로 바꾸어줌\n",
    "'''"
   ]
  },
  {
   "cell_type": "code",
   "execution_count": null,
   "metadata": {},
   "outputs": [],
   "source": [
    "N=int(input())\n",
    "K=str(input())\n",
    "B=list(K)\n",
    "\n",
    "for i in range(0,N):\n",
    "    B[i]=int(B[i])\n",
    "\n",
    "print(sum(B))"
   ]
  },
  {
   "cell_type": "code",
   "execution_count": null,
   "metadata": {},
   "outputs": [],
   "source": [
    "print(B)\n",
    "\n",
    "for i in range(0,N):\n",
    "    B[i]=int(B[i])"
   ]
  },
  {
   "cell_type": "code",
   "execution_count": null,
   "metadata": {},
   "outputs": [],
   "source": [
    "print(B)\n",
    "sum(B)"
   ]
  },
  {
   "cell_type": "code",
   "execution_count": null,
   "metadata": {},
   "outputs": [],
   "source": [
    "S=str(input()) #song\n",
    "A=[]                              \n",
    "A=list(S)                         #주어진 단어를 리스트로 각각 저장\n",
    "B=[]                              #주어진 단어의 각각의 알파벳번호\n",
    "C=[]                              #-1로 이루어진 알파벳의 리스트\n",
    "\n",
    "for j in range(0,25):\n",
    "    C.append(-1)\n",
    "\n",
    "for i in A:\n",
    "    if i in S:\n",
    "        B.append(ord(str(i))-97)#알파벳의 번호\n",
    "        C[i]=\n"
   ]
  },
  {
   "cell_type": "code",
   "execution_count": null,
   "metadata": {},
   "outputs": [],
   "source": [
    "S=str(input())\n",
    "A=list(S)\n",
    "B=[]\n",
    "C=[-1 for x in range(0,26)]\n",
    "for i in A:\n",
    "    if i in S:\n",
    "        B.append(ord(str(i))-97)\n",
    "        C[int(i)]=S.find(i)"
   ]
  },
  {
   "cell_type": "code",
   "execution_count": null,
   "metadata": {
    "scrolled": true
   },
   "outputs": [],
   "source": [
    "S.find('q')"
   ]
  },
  {
   "cell_type": "code",
   "execution_count": null,
   "metadata": {},
   "outputs": [],
   "source": [
    "S=str(input())\n",
    "B=[]\n",
    "C=[-1 for j in range(0,26)]\n",
    "for i in S:\n",
    "    B.append(ord(i)-97)\n",
    "    C[ord(i)-97]=S.find(i)\n",
    "for j in C:\n",
    "    print(j, end=' ')\n",
    "    \n",
    "'''\n",
    "먼저 S로 스트링타입으로 입력을 받은 후\n",
    "빈 리스트 B를 만듦.\n",
    "그 후 출력에 활용할 C라는 리스트를 []를 활용하여 만들고 -1로 채움\n",
    "\n",
    "첫번째 반복문을 이용했고 그 안에서\n",
    "B.append(ord(i)-97)는\n",
    "ord는 ascii코드로 변환해주는 함수이고\n",
    "ascii코드에는 a to z 가 순서대로 들어가 있고 -97을 하면 0 to 25로 할 수\n",
    "있다.\n",
    "그리고 C[ord(i)-97] 은 아스키코드의 순서가 되는 넘버를 C리스트에서 찾은 후\n",
    "S.find(i)명령어를 사용했다\n",
    "S는 스트링으로 이루어진 변수이고\n",
    ".find(i)는 타겟 안에 i가 0부터 x까지 몇번째로 위치해 있는지 알려주는 함수이다\n",
    "그래서 그 알파벳의 위치 번호를 C리스트의 위치번호로 일치시켜 입력했다.\n",
    "\n",
    "'''"
   ]
  },
  {
   "cell_type": "code",
   "execution_count": null,
   "metadata": {},
   "outputs": [],
   "source": [
    "C"
   ]
  },
  {
   "cell_type": "code",
   "execution_count": null,
   "metadata": {},
   "outputs": [],
   "source": [
    "N=int(input()) #테스트 케이스 갯수\n",
    "B=[]\n",
    "C=[]\n",
    "for i in range(0,N):\n",
    "    B=input().split(' ')\n",
    "    C.append((sorted(B[1]*int(B[0]))))\n",
    "for j in range(0,len(C)):\n",
    "    print(''.join(C[j]))"
   ]
  },
  {
   "cell_type": "code",
   "execution_count": null,
   "metadata": {},
   "outputs": [],
   "source": [
    "for j in range(0,len(C)):\n",
    "    print(''.join(C[j]))"
   ]
  },
  {
   "cell_type": "code",
   "execution_count": null,
   "metadata": {},
   "outputs": [],
   "source": [
    "C"
   ]
  },
  {
   "cell_type": "code",
   "execution_count": null,
   "metadata": {},
   "outputs": [],
   "source": [
    "N=int(input()) #테스트 케이스 갯수\n",
    "B=[]\n",
    "C=[]\n",
    "for i in range(0,N):\n",
    "    B=input().split(' ')\n",
    "    for j in B[1]:   #str으로서 한 글자씩 다음 글자로 넘어가는 반복문\n",
    "        for k in range(0,int(B[0])): #반복의 횟수를 정했던 첫번째 수\n",
    "            j=j+j\n",
    "            print(j)\n",
    "        \n",
    "    "
   ]
  },
  {
   "cell_type": "code",
   "execution_count": null,
   "metadata": {},
   "outputs": [],
   "source": [
    "j"
   ]
  },
  {
   "cell_type": "code",
   "execution_count": null,
   "metadata": {},
   "outputs": [],
   "source": [
    "N=int(input())\n",
    "A=[]\n",
    "B=[]\n",
    "for i in range(0,N):\n",
    "    A.append(input().split()) #입력받았고 바로 연산하자\n",
    "    for j in range(0,int(A[i][0])):\n",
    "        A[i][1]=A[i][1]+A[i][1]\n",
    "    B=A"
   ]
  },
  {
   "cell_type": "code",
   "execution_count": null,
   "metadata": {},
   "outputs": [],
   "source": [
    "B"
   ]
  },
  {
   "cell_type": "code",
   "execution_count": null,
   "metadata": {},
   "outputs": [],
   "source": [
    "for j in A:\n",
    "    print(j)\n",
    "    for k in A[j]:\n",
    "        "
   ]
  },
  {
   "cell_type": "code",
   "execution_count": null,
   "metadata": {},
   "outputs": [],
   "source": [
    "N=int(input())\n",
    "C=''\n",
    "result=[]\n",
    "for i in range(0,N):\n",
    "    A=input().split()\n",
    "    A=list(A)\n",
    "    C=''\n",
    "    for j in A[1]:\n",
    "        j=j*int(A[0])\n",
    "        C=str(C)+j\n",
    "    result.append(C)\n",
    "\n",
    "for x in range(0,len(result)):\n",
    "    print(result[x])\n",
    "\n",
    "\n",
    "'''\n",
    "먼저 해당 문자열을 각 자릿수 마다 제일 먼저 입력받은 수 만큼 곱해서 늘리는 문제\n",
    "기존의 문제들 처럼 테스트 갯수를 입력 받고\n",
    "필요한 변수는\n",
    "스트링 변수 C\n",
    "결과값을 append할 변수 result\n",
    "\n",
    "for 문을 입력받은 테스트 개수만큼 반복하고\n",
    "입력받은str을 list로 바꾸어 각 자리에 대한 연산이 가능하도록 했고\n",
    "C=''로 매 반복마다 초기화 했음\n",
    "\n",
    "입력받은 문자의 길이만큼 for문을 설정했고\n",
    "타겟으로 지정된 j를 int(A[0])로 곱함으로서 기능을 구현했고\n",
    "미리 입력된 값을 저장할 C에 j를 str덧셈으로서 덧붙였다\n",
    "\n",
    "결과값 리스트에 해당 C를 append하고 \n",
    "\n",
    "반복\n",
    "'''"
   ]
  },
  {
   "cell_type": "code",
   "execution_count": null,
   "metadata": {},
   "outputs": [],
   "source": [
    "import sys\n",
    "\n",
    "N=str(input())\n",
    "count=0 #반복되면서 카운트를 셀 변수\n",
    "alp=[0 for y in range(0,26)] #알파벳 리스트\n",
    "num=[int(x) for x in range(0,26)] #숫자 리스트\n",
    "mid=[] #중간 값을 저장할 리스트\n",
    "for i in N:\n",
    "    count=0\n",
    "    for j in N:\n",
    "        if i ==j:\n",
    "            alp[(ord(str(i))-97)]+=1"
   ]
  },
  {
   "cell_type": "code",
   "execution_count": null,
   "metadata": {},
   "outputs": [],
   "source": [
    "alp"
   ]
  },
  {
   "cell_type": "code",
   "execution_count": 7,
   "metadata": {},
   "outputs": [
    {
     "name": "stdout",
     "output_type": "stream",
     "text": [
      "aaabc\n",
      "1\n",
      "3\n",
      "1\n"
     ]
    }
   ],
   "source": [
    "N=str(input())\n",
    "A=list(N)\n",
    "for i in set(A):\n",
    "    print(A.count(i))\n"
   ]
  },
  {
   "cell_type": "code",
   "execution_count": 2,
   "metadata": {},
   "outputs": [
    {
     "data": {
      "text/plain": [
       "['s', 'o', 'n', 'g']"
      ]
     },
     "execution_count": 2,
     "metadata": {},
     "output_type": "execute_result"
    }
   ],
   "source": [
    "A"
   ]
  },
  {
   "cell_type": "code",
   "execution_count": null,
   "metadata": {},
   "outputs": [],
   "source": []
  }
 ],
 "metadata": {
  "kernelspec": {
   "display_name": "Python 3",
   "language": "python",
   "name": "python3"
  },
  "language_info": {
   "codemirror_mode": {
    "name": "ipython",
    "version": 3
   },
   "file_extension": ".py",
   "mimetype": "text/x-python",
   "name": "python",
   "nbconvert_exporter": "python",
   "pygments_lexer": "ipython3",
   "version": "3.7.4"
  }
 },
 "nbformat": 4,
 "nbformat_minor": 4
}
