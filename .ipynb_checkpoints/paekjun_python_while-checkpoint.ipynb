{
 "cells": [
  {
   "cell_type": "code",
   "execution_count": null,
   "metadata": {},
   "outputs": [],
   "source": [
    "#while은 조건이 참인동안 계속해서 돌아감\n",
    "A=0\n",
    "i=1\n",
    "while A<10:\n",
    "    print(i)\n",
    "    i=+1\n",
    "    A=A+1\n",
    "    \n",
    "'''while문은 조건이 참인동안 계속 돌아간다\n",
    "그렇다면 while a!=0 and b!=0:\n",
    "    이라는 조건이라면 a와 b모두 0 이 아니면, 즉 둘중 하나만 0이면 조건이 참이기 때문에\n",
    "    계속 돌아가는게 맞지 않나?\n",
    "    \n",
    "a가 0이 아니고 b도 0이 아니어야해\n",
    "while a!=0 and b!=0\n",
    "-> 둘 다 0이 아니어야만 조건이 참이 되어 계속 돌아가는듯\n",
    "'''"
   ]
  },
  {
   "cell_type": "code",
   "execution_count": null,
   "metadata": {},
   "outputs": [],
   "source": [
    "A=1\n",
    "B=1\n",
    "while A!=0 and B!=0: \n",
    "  \n",
    "    A,B=map(int,input().split())\n",
    "    print(A+B)"
   ]
  },
  {
   "cell_type": "code",
   "execution_count": null,
   "metadata": {},
   "outputs": [],
   "source": [
    "A=1\n",
    "B=1\n",
    "D=[]\n",
    "while A!=0 or B!=0:\n",
    "    A,B=map(int,input().split())\n",
    "\n",
    "    print(A+B,end=' ')"
   ]
  },
  {
   "cell_type": "code",
   "execution_count": null,
   "metadata": {},
   "outputs": [],
   "source": [
    "O=0\n",
    "P=[]\n",
    "while O<10:\n",
    "    print(O)\n",
    "    P=O\n",
    "    O=O+1"
   ]
  },
  {
   "cell_type": "code",
   "execution_count": null,
   "metadata": {},
   "outputs": [],
   "source": [
    "D=[]\n",
    "while A!=0 or B!=0: #즉 둘 다 0일때 참에서 거짓으로 결과값이 바뀌고 반복이 멈춤\n",
    "    A,B=map(int,input().split())\n",
    "    C=A+B\n",
    "    D.append(C)\n",
    "print(D)"
   ]
  },
  {
   "cell_type": "code",
   "execution_count": null,
   "metadata": {},
   "outputs": [],
   "source": [
    "a,b=1,1\n",
    "while a!=0 or b!=0:\n",
    "    a,b=map(int,input().split())\n",
    "    if a!=0 or b!=0:\n",
    "        print(a+b)"
   ]
  },
  {
   "cell_type": "code",
   "execution_count": 1,
   "metadata": {},
   "outputs": [
    {
     "name": "stdout",
     "output_type": "stream",
     "text": [
      "1 1\n",
      "2\n",
      "2 2\n",
      "4\n",
      "\n"
     ]
    },
    {
     "ename": "ValueError",
     "evalue": "not enough values to unpack (expected 2, got 0)",
     "output_type": "error",
     "traceback": [
      "\u001b[0;31m---------------------------------------------------------------------------\u001b[0m",
      "\u001b[0;31mValueError\u001b[0m                                Traceback (most recent call last)",
      "\u001b[0;32m<ipython-input-1-e1da95da07e5>\u001b[0m in \u001b[0;36m<module>\u001b[0;34m\u001b[0m\n\u001b[1;32m      1\u001b[0m \u001b[0;32mwhile\u001b[0m \u001b[0;32mTrue\u001b[0m\u001b[0;34m:\u001b[0m\u001b[0;34m\u001b[0m\u001b[0;34m\u001b[0m\u001b[0m\n\u001b[0;32m----> 2\u001b[0;31m     \u001b[0mA\u001b[0m\u001b[0;34m,\u001b[0m\u001b[0mB\u001b[0m\u001b[0;34m=\u001b[0m\u001b[0mmap\u001b[0m\u001b[0;34m(\u001b[0m\u001b[0mint\u001b[0m\u001b[0;34m,\u001b[0m\u001b[0minput\u001b[0m\u001b[0;34m(\u001b[0m\u001b[0;34m)\u001b[0m\u001b[0;34m.\u001b[0m\u001b[0msplit\u001b[0m\u001b[0;34m(\u001b[0m\u001b[0;34m)\u001b[0m\u001b[0;34m)\u001b[0m\u001b[0;34m\u001b[0m\u001b[0;34m\u001b[0m\u001b[0m\n\u001b[0m\u001b[1;32m      3\u001b[0m     \u001b[0mprint\u001b[0m\u001b[0;34m(\u001b[0m\u001b[0mA\u001b[0m\u001b[0;34m+\u001b[0m\u001b[0mB\u001b[0m\u001b[0;34m)\u001b[0m\u001b[0;34m\u001b[0m\u001b[0;34m\u001b[0m\u001b[0m\n",
      "\u001b[0;31mValueError\u001b[0m: not enough values to unpack (expected 2, got 0)"
     ]
    }
   ],
   "source": [
    "try:\n",
    "    while True:\n",
    "        A,B=map(int,input().split())\n",
    "        print(A+B)\n",
    "except:\n",
    "    exit()"
   ]
  },
  {
   "cell_type": "code",
   "execution_count": null,
   "metadata": {},
   "outputs": [],
   "source": []
  }
 ],
 "metadata": {
  "kernelspec": {
   "display_name": "Python 3",
   "language": "python",
   "name": "python3"
  },
  "language_info": {
   "codemirror_mode": {
    "name": "ipython",
    "version": 3
   },
   "file_extension": ".py",
   "mimetype": "text/x-python",
   "name": "python",
   "nbconvert_exporter": "python",
   "pygments_lexer": "ipython3",
   "version": "3.7.4"
  }
 },
 "nbformat": 4,
 "nbformat_minor": 4
}
