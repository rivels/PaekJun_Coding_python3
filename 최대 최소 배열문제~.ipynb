{
 "cells": [
  {
   "cell_type": "code",
   "execution_count": null,
   "metadata": {},
   "outputs": [],
   "source": [
    "K=N=int(input())\n",
    "count=0\n",
    "while True:\n",
    "    one=K%10 #입력한 수의 1의자리가 주어짐 6\n",
    "    ten=K//10 #입력한 수의 10의 자리가 주어짐 2\n",
    "    sum=one+ten #8\n",
    "    count += 1 #\n",
    "    K=sum\n",
    "    if count>1000:\n",
    "        break\n",
    "    if N==sum:\n",
    "        break\n",
    "        \n",
    "print(count)\n",
    "#26 =8 ->68 = 14 ....."
   ]
  },
  {
   "cell_type": "code",
   "execution_count": null,
   "metadata": {},
   "outputs": [],
   "source": [
    "N=K=int(input())\n",
    "count=0\n",
    "while True:\n",
    "    one=K%10 #입력한 수의 1의자리가 주어짐 6\n",
    "    ten=K//10 #입력한 수의 10의 자리가 주어짐 2\n",
    "    sum=one+ten #8\n",
    "    com=int(str(one)+str(int(sum)%10))\n",
    "    count += 1 #\n",
    "    if com==N:\n",
    "        break\n",
    "    K=com\n",
    "print(count)"
   ]
  },
  {
   "cell_type": "code",
   "execution_count": null,
   "metadata": {},
   "outputs": [],
   "source": [
    "print('{}{}'.format(ten,one))"
   ]
  },
  {
   "cell_type": "code",
   "execution_count": null,
   "metadata": {},
   "outputs": [],
   "source": [
    "sum"
   ]
  },
  {
   "cell_type": "code",
   "execution_count": null,
   "metadata": {},
   "outputs": [],
   "source": [
    "K"
   ]
  },
  {
   "cell_type": "code",
   "execution_count": null,
   "metadata": {},
   "outputs": [],
   "source": [
    "#K=26\n",
    "count=0\n",
    "one=K%10 #입력한 수의 1의자리가 주어짐 6\n",
    "ten=K//10 #입력한 수의 10의 자리가 주어짐 2\n",
    "sum=one+ten #8\n",
    "com=int(str(one)+str(int(sum)%10))\n",
    "count += 1 #\n",
    "#if com==N:\n",
    " #   break\n",
    "K=com"
   ]
  },
  {
   "cell_type": "code",
   "execution_count": null,
   "metadata": {},
   "outputs": [],
   "source": [
    "N=[]\n",
    "M=int(input())\n",
    "N=map(int,input().split())\n",
    "N=list(N)\n",
    "i=0\n",
    "min_N=N[i]\n",
    "max_N=N[i]\n",
    "count=0\n",
    "\n",
    "while True:\n",
    "    try:\n",
    "        if max_N<N[i]:\n",
    "            max_N=N[i]\n",
    "        if min_N>N[i]:\n",
    "            min_N=N[i]\n",
    "        i+=1\n",
    "        count+=1\n",
    "        if count>(M-1):\n",
    "            break\n",
    "    except IndexError:\n",
    "            if max_N<N[i]:\n",
    "                max_N=N[i]\n",
    "            if min_N>N[i]:\n",
    "                min_N=N[i]\n",
    "            break\n",
    "print('{} {}'.format(min_N,max_N))"
   ]
  },
  {
   "cell_type": "code",
   "execution_count": null,
   "metadata": {},
   "outputs": [],
   "source": [
    "for N[i] in range(N[M-1]):\n",
    "    if N[i+1]>N[i]:\n",
    "        max_N=N[i]\n",
    "    if N[i+1]<N[i]:\n",
    "        min_N=N[i]"
   ]
  },
  {
   "cell_type": "code",
   "execution_count": null,
   "metadata": {},
   "outputs": [],
   "source": [
    "N=[]\n",
    "M=int(input())\n",
    "N=map(int,input().split())\n",
    "N=list(N)\n",
    "i=0\n",
    "min_N=0\n",
    "max_N=0\n",
    "\n",
    "count=0\n",
    "for i in range(N[M-1]):\n",
    "    if N[i+1]>N[i]:\n",
    "        max_N=N[i]\n",
    "    if N[i+1]<N[i]:\n",
    "        min_N=N[i]\n",
    "print(max_N)\n",
    "print(min_N)"
   ]
  },
  {
   "cell_type": "code",
   "execution_count": null,
   "metadata": {},
   "outputs": [],
   "source": [
    "M=int(input())\n",
    "N=map(int,input().split())\n",
    "\n"
   ]
  },
  {
   "cell_type": "code",
   "execution_count": null,
   "metadata": {},
   "outputs": [],
   "source": [
    "N=[]\n",
    "for i in range(9): #목표 숫자가되면 실행하지 않고 나감!!! while은 참인동안 계속 실행\n",
    "    N.append(int(input()))\n",
    "Max=N[0]\n",
    "\n",
    "for j in range(9):\n",
    "    if Max<N[j]:\n",
    "        Max=N[j]\n",
    "        num=j\n",
    "print('''{}\n",
    "{}'''.format(Max,num+1))"
   ]
  },
  {
   "cell_type": "code",
   "execution_count": null,
   "metadata": {},
   "outputs": [],
   "source": [
    "N=[]\n",
    "for i in range(9):\n",
    "    N.append(int(input()))\n",
    "print(max(N))\n",
    "print(int(N.index(max(N)))+1)"
   ]
  },
  {
   "cell_type": "code",
   "execution_count": 5,
   "metadata": {},
   "outputs": [
    {
     "data": {
      "text/plain": [
       "['1', '8', '6', '0', '8', '6', '7']"
      ]
     },
     "execution_count": 5,
     "metadata": {},
     "output_type": "execute_result"
    }
   ],
   "source": [
    "comp"
   ]
  },
  {
   "cell_type": "code",
   "execution_count": 4,
   "metadata": {},
   "outputs": [
    {
     "name": "stdout",
     "output_type": "stream",
     "text": [
      "123\n",
      "123\n",
      "123\n",
      "1\n",
      "1\n",
      "0\n",
      "0\n",
      "0\n",
      "0\n",
      "2\n",
      "1\n",
      "2\n",
      "0\n"
     ]
    }
   ],
   "source": [
    "A=int(input())\n",
    "B=int(input())\n",
    "C=int(input())\n",
    "\n",
    "comp=A*B*C #1,232,194\n",
    "comp=list(str(comp))\n",
    "\n",
    "for i in range(10):\n",
    "    print(comp.count('{}'.format(i)))\n",
    "    "
   ]
  },
  {
   "cell_type": "code",
   "execution_count": 2,
   "metadata": {},
   "outputs": [
    {
     "name": "stdout",
     "output_type": "stream",
     "text": [
      "123\n",
      "123\n",
      "123\n"
     ]
    }
   ],
   "source": [
    "A=int(input())\n",
    "B=int(input())\n",
    "C=int(input())\n",
    "\n",
    "comp=A*B*C #1,232,194\n",
    "comp=list(str(comp))"
   ]
  },
  {
   "cell_type": "code",
   "execution_count": 3,
   "metadata": {},
   "outputs": [
    {
     "name": "stdout",
     "output_type": "stream",
     "text": [
      "0\n"
     ]
    }
   ],
   "source": []
  },
  {
   "cell_type": "code",
   "execution_count": null,
   "metadata": {},
   "outputs": [],
   "source": [
    "123*123*123"
   ]
  },
  {
   "cell_type": "code",
   "execution_count": null,
   "metadata": {},
   "outputs": [],
   "source": [
    "comp.count('8')"
   ]
  },
  {
   "cell_type": "code",
   "execution_count": null,
   "metadata": {},
   "outputs": [],
   "source": []
  }
 ],
 "metadata": {
  "kernelspec": {
   "display_name": "Python 3",
   "language": "python",
   "name": "python3"
  },
  "language_info": {
   "codemirror_mode": {
    "name": "ipython",
    "version": 3
   },
   "file_extension": ".py",
   "mimetype": "text/x-python",
   "name": "python",
   "nbconvert_exporter": "python",
   "pygments_lexer": "ipython3",
   "version": "3.7.4"
  }
 },
 "nbformat": 4,
 "nbformat_minor": 4
}
