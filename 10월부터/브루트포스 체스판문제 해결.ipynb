{
 "cells": [
  {
   "cell_type": "code",
   "execution_count": null,
   "metadata": {},
   "outputs": [],
   "source": [
    "N,M=map(int,input().split(' '))\n",
    "A=[]\n",
    "B=[]\n",
    "for _ in range (0,N):\n",
    "    A.append(str(input()))\n",
    "\n",
    "for i in range(0,N-8):\n",
    "    for j in range(0,M-8):\n",
    "        B.append(A[i][j])\n",
    "        \n",
    "        \n",
    "print(B)"
   ]
  },
  {
   "cell_type": "code",
   "execution_count": 30,
   "metadata": {},
   "outputs": [
    {
     "name": "stdout",
     "output_type": "stream",
     "text": [
      "10 13\n",
      "BBBBBBBBWBWBW BBBBBBBBBWBWB BBBBBBBBWBWBW BBBBBBBBBWBWB BBBBBBBBWBWBW BBBBBBBBBWBWB BBBBBBBBWBWBW BBBBBBBBBWBWB WWWWWWWWWWBWB WWWWWWWWWWBWB\n"
     ]
    }
   ],
   "source": [
    "N,M=map(int,input().split(' '))\n",
    "A=[]\n",
    "B=[]\n",
    "q=e=0\n",
    "A=input().split(' ')\n",
    "\n",
    "for i in range(0,N-7):\n",
    "    for j in range(0,M-7):\n",
    "        for k in range(0,8):\n",
    "            B.append(A[k+j:7+i])"
   ]
  },
  {
   "cell_type": "code",
   "execution_count": 32,
   "metadata": {},
   "outputs": [
    {
     "data": {
      "text/plain": [
       "['BBBBBBBBWBWBW',\n",
       " 'BBBBBBBBBWBWB',\n",
       " 'BBBBBBBBWBWBW',\n",
       " 'BBBBBBBBBWBWB',\n",
       " 'BBBBBBBBWBWBW',\n",
       " 'BBBBBBBBBWBWB',\n",
       " 'BBBBBBBBWBWBW',\n",
       " 'BBBBBBBBBWBWB',\n",
       " 'WWWWWWWWWWBWB',\n",
       " 'WWWWWWWWWWBWB']"
      ]
     },
     "execution_count": 32,
     "metadata": {},
     "output_type": "execute_result"
    }
   ],
   "source": [
    "A"
   ]
  },
  {
   "cell_type": "code",
   "execution_count": 84,
   "metadata": {},
   "outputs": [
    {
     "name": "stdout",
     "output_type": "stream",
     "text": [
      "10 13\n",
      "BBBBBBBBWBWBW\n",
      "BBBBBBBBBWBWB\n",
      "BBBBBBBBWBWBW\n",
      "BBBBBBBBBWBWB\n",
      "BBBBBBBBWBWBW\n",
      "BBBBBBBBBWBWB\n",
      "BBBBBBBBWBWBW\n",
      "BBBBBBBBBWBWB\n",
      "WWWWWWWWWWBWB\n",
      "WWWWWWWWWWBWB\n",
      "12\n"
     ]
    }
   ],
   "source": [
    "C=[]\n",
    "T=[]\n",
    "A=[]\n",
    "Cnt=0\n",
    "N,M=map(int,input().split())\n",
    "for y in range(0,N):\n",
    "    A.append(str(input()))\n",
    "black=['BWBWBWBW',\n",
    "      'WBWBWBWB',\n",
    "      'BWBWBWBW',\n",
    "      'WBWBWBWB',\n",
    "      'BWBWBWBW',\n",
    "      'WBWBWBWB',\n",
    "      'BWBWBWBW',\n",
    "      'WBWBWBWB']\n",
    "white=['WBWBWBWB',\n",
    "      'BWBWBWBW',\n",
    "      'WBWBWBWB',\n",
    "      'BWBWBWBW',\n",
    "      'WBWBWBWB',\n",
    "      'BWBWBWBW',\n",
    "      'WBWBWBWB',\n",
    "      'BWBWBWBW']\n",
    "for i in range(0,N-7):\n",
    "    for j in range(0,M-7):\n",
    "        for _ in range(0,8):\n",
    "            C.append(A[_+i][j:8+j])\n",
    "        for z in range(0,8):\n",
    "            for x in range(0,8):\n",
    "                if black[z][x]!=C[z][x]:\n",
    "                    Cnt+=1\n",
    "        T.append(Cnt)\n",
    "        Cnt=0\n",
    "        for c in range(0,8):\n",
    "            for v in range(0,8):\n",
    "                if white[c][v]!=C[c][v]:\n",
    "                    Cnt+=1\n",
    "        T.append(Cnt)\n",
    "        Cnt=0\n",
    "        C=[]\n",
    "print(min(T))"
   ]
  },
  {
   "cell_type": "code",
   "execution_count": 86,
   "metadata": {},
   "outputs": [
    {
     "data": {
      "text/plain": [
       "['BBBBBBBBWBWBW',\n",
       " 'BBBBBBBBBWBWB',\n",
       " 'BBBBBBBBWBWBW',\n",
       " 'BBBBBBBBBWBWB',\n",
       " 'BBBBBBBBWBWBW',\n",
       " 'BBBBBBBBBWBWB',\n",
       " 'BBBBBBBBWBWBW',\n",
       " 'BBBBBBBBBWBWB',\n",
       " 'WWWWWWWWWWBWB',\n",
       " 'WWWWWWWWWWBWB',\n",
       " 'BBBBBBBBWBWBW',\n",
       " 'BBBBBBBBBWBWB',\n",
       " 'BBBBBBBBWBWBW',\n",
       " 'BBBBBBBBBWBWB',\n",
       " 'BBBBBBBBWBWBW',\n",
       " 'BBBBBBBBBWBWB',\n",
       " 'BBBBBBBBWBWBW',\n",
       " 'BBBBBBBBBWBWB',\n",
       " 'WWWWWWWWWWBWB',\n",
       " 'WWWWWWWWWWBWB']"
      ]
     },
     "execution_count": 86,
     "metadata": {},
     "output_type": "execute_result"
    }
   ],
   "source": [
    "A"
   ]
  },
  {
   "cell_type": "code",
   "execution_count": 37,
   "metadata": {},
   "outputs": [
    {
     "data": {
      "text/plain": [
       "6"
      ]
     },
     "execution_count": 37,
     "metadata": {},
     "output_type": "execute_result"
    }
   ],
   "source": [
    "M-7"
   ]
  },
  {
   "cell_type": "code",
   "execution_count": 46,
   "metadata": {},
   "outputs": [
    {
     "data": {
      "text/plain": [
       "['BBBBBBBBWBWBW',\n",
       " 'BBBBBBBBBWBWB',\n",
       " 'BBBBBBBBWBWBW',\n",
       " 'BBBBBBBBBWBWB',\n",
       " 'BBBBBBBBWBWBW',\n",
       " 'BBBBBBBBBWBWB',\n",
       " 'BBBBBBBBWBWBW',\n",
       " 'BBBBBBBBBWBWB',\n",
       " 'WWWWWWWWWWBWB',\n",
       " 'WWWWWWWWWWBWB']"
      ]
     },
     "execution_count": 46,
     "metadata": {},
     "output_type": "execute_result"
    }
   ],
   "source": [
    "A"
   ]
  },
  {
   "cell_type": "code",
   "execution_count": null,
   "metadata": {},
   "outputs": [],
   "source": []
  }
 ],
 "metadata": {
  "kernelspec": {
   "display_name": "Python 3",
   "language": "python",
   "name": "python3"
  },
  "language_info": {
   "codemirror_mode": {
    "name": "ipython",
    "version": 3
   },
   "file_extension": ".py",
   "mimetype": "text/x-python",
   "name": "python",
   "nbconvert_exporter": "python",
   "pygments_lexer": "ipython3",
   "version": "3.7.4"
  }
 },
 "nbformat": 4,
 "nbformat_minor": 4
}
