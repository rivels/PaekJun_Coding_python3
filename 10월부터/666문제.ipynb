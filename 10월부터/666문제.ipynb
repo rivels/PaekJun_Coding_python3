{
 "cells": [
  {
   "cell_type": "code",
   "execution_count": 153,
   "metadata": {},
   "outputs": [
    {
     "name": "stdout",
     "output_type": "stream",
     "text": [
      "3\n",
      "2666\n"
     ]
    }
   ],
   "source": [
    "N=int(input())\n",
    "A=666\n",
    "while (N):\n",
    "    if '666' in str(A):\n",
    "        N-=1\n",
    "    A+=1\n",
    "print(A-1)"
   ]
  },
  {
   "cell_type": "markdown",
   "metadata": {},
   "source": [
    "### '''\n",
    "666 1 가장작은 수\n",
    "1666 2 두번째\n",
    "2666 3 세번째\n",
    "3666 4 네번째\n",
    "4666 5\n",
    "5666 6\n",
    "6660 7\n",
    "6661 8\n",
    "6662 9\n",
    "6663 10\n",
    "6664 11\n",
    "6665 12\n",
    "6666 13\n",
    "6667 14\n",
    "6668 15\n",
    "6669 16 6670    7669\n",
    "7666 17  996\n",
    "8666 18\n",
    "9666 19\n",
    "\n",
    "10666 20\n",
    "11666\n",
    "\n",
    "…\n",
    "\n",
    "'''"
   ]
  },
  {
   "cell_type": "code",
   "execution_count": 113,
   "metadata": {},
   "outputs": [
    {
     "data": {
      "text/plain": [
       "17.516516516516518"
      ]
     },
     "execution_count": 113,
     "metadata": {},
     "output_type": "execute_result"
    }
   ],
   "source": [
    "11666/666"
   ]
  },
  {
   "cell_type": "code",
   "execution_count": 115,
   "metadata": {},
   "outputs": [
    {
     "data": {
      "text/plain": [
       "11322"
      ]
     },
     "execution_count": 115,
     "metadata": {},
     "output_type": "execute_result"
    }
   ],
   "source": [
    "666*17"
   ]
  },
  {
   "cell_type": "code",
   "execution_count": 137,
   "metadata": {},
   "outputs": [
    {
     "name": "stdout",
     "output_type": "stream",
     "text": [
      "10000\n",
      "2666799\n"
     ]
    }
   ],
   "source": [
    "N=int(input())\n",
    "A=666\n",
    "while(N):\n",
    "    if '666' in str(A):\n",
    "        N-=1\n",
    "    A+=1\n",
    "print(A-1)"
   ]
  },
  {
   "cell_type": "code",
   "execution_count": 149,
   "metadata": {},
   "outputs": [
    {
     "name": "stdout",
     "output_type": "stream",
     "text": [
      "1\n",
      "666\n"
     ]
    }
   ],
   "source": [
    "N=int(input())\n",
    "A=666\n",
    "while(N):\n",
    "    if '666' in str(A):\n",
    "        N-=1\n",
    "    A+=1\n",
    "print(A-1)\n"
   ]
  },
  {
   "cell_type": "code",
   "execution_count": 143,
   "metadata": {},
   "outputs": [],
   "source": [
    "N=10\n",
    "t=10"
   ]
  },
  {
   "cell_type": "code",
   "execution_count": 144,
   "metadata": {},
   "outputs": [
    {
     "name": "stdout",
     "output_type": "stream",
     "text": [
      "9\n",
      "8\n",
      "7\n",
      "6\n",
      "5\n",
      "4\n",
      "3\n",
      "2\n",
      "1\n",
      "0\n"
     ]
    }
   ],
   "source": [
    "while(t):\n",
    "    t-=1\n",
    "    print(t)"
   ]
  },
  {
   "cell_type": "code",
   "execution_count": null,
   "metadata": {},
   "outputs": [],
   "source": []
  }
 ],
 "metadata": {
  "kernelspec": {
   "display_name": "Python 3",
   "language": "python",
   "name": "python3"
  },
  "language_info": {
   "codemirror_mode": {
    "name": "ipython",
    "version": 3
   },
   "file_extension": ".py",
   "mimetype": "text/x-python",
   "name": "python",
   "nbconvert_exporter": "python",
   "pygments_lexer": "ipython3",
   "version": "3.7.4"
  }
 },
 "nbformat": 4,
 "nbformat_minor": 4
}
