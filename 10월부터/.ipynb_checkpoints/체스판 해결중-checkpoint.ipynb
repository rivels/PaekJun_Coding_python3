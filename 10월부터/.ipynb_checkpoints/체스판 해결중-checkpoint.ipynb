{
 "cells": [
  {
   "cell_type": "code",
   "execution_count": 13,
   "metadata": {
    "scrolled": true
   },
   "outputs": [
    {
     "name": "stdout",
     "output_type": "stream",
     "text": [
      "8 8\n",
      "BBBBBBBB\n",
      "BBBBBBBB\n",
      "BBBBBBBB\n",
      "BBBBBBBB\n",
      "BBBBBBBB\n",
      "BBBBBBBB\n",
      "BBBBBBBB\n",
      "BBBBBBBB\n",
      "32\n"
     ]
    }
   ],
   "source": [
    "N,M=map(int,input().split(' '))#N은 세로 M은 가로\n",
    "A=[]\n",
    "B=[]\n",
    "a=''\n",
    "Cnt=0\n",
    "Q=''\n",
    "for i in range(0,N):\n",
    "    a=a+str(input())\n",
    "Q=a[0]\n",
    "\n",
    "if Q=='B':\n",
    "    for j in range(1,N+1):\n",
    "        if j%2==1:\n",
    "            for k in range(1,M+1):\n",
    "                if k%2==1:\n",
    "                    B.append('B')\n",
    "                else:\n",
    "                    B.append('W')\n",
    "        else:\n",
    "            for l in range(1,M+1):\n",
    "                if l%2==1:\n",
    "                    B.append('W')\n",
    "                else:\n",
    "                    B.append('B')\n",
    "else:\n",
    "    for m in range(1,N+1):\n",
    "        if m%2==1:\n",
    "            for n in range(1,M+1):\n",
    "                if n%2==1:\n",
    "                    B.append('W')\n",
    "                else:\n",
    "                    B.append('B')\n",
    "        else:\n",
    "            for m in range(1,M+1):\n",
    "                if m%2==1:\n",
    "                    B.append('B')\n",
    "                else:\n",
    "                    B.append('W')\n",
    "for i in range(0,len(a)):\n",
    "    if a[i]!=B[i]:\n",
    "        Cnt+=1\n",
    "print(Cnt)"
   ]
  },
  {
   "cell_type": "code",
   "execution_count": 11,
   "metadata": {},
   "outputs": [
    {
     "name": "stdout",
     "output_type": "stream",
     "text": [
      "10 13\n",
      "BBBBBBBBWBWBW BBBBBBBBBWBWB BBBBBBBBWBWBW BBBBBBBBBWBWB BBBBBBBBWBWBW BBBBBBBBBWBWB BBBBBBBBWBWBW BBBBBBBBBWBWB WWWWWWWWWWBWB WWWWWWWWWWBWB\n"
     ]
    },
    {
     "ename": "IndexError",
     "evalue": "list index out of range",
     "output_type": "error",
     "traceback": [
      "\u001b[0;31m---------------------------------------------------------------------------\u001b[0m",
      "\u001b[0;31mIndexError\u001b[0m                                Traceback (most recent call last)",
      "\u001b[0;32m<ipython-input-11-4b33a95d610a>\u001b[0m in \u001b[0;36m<module>\u001b[0;34m\u001b[0m\n\u001b[1;32m     38\u001b[0m                     \u001b[0mB\u001b[0m\u001b[0;34m.\u001b[0m\u001b[0mappend\u001b[0m\u001b[0;34m(\u001b[0m\u001b[0;34m'W'\u001b[0m\u001b[0;34m)\u001b[0m\u001b[0;34m\u001b[0m\u001b[0;34m\u001b[0m\u001b[0m\n\u001b[1;32m     39\u001b[0m \u001b[0;32mfor\u001b[0m \u001b[0mi\u001b[0m \u001b[0;32min\u001b[0m \u001b[0mrange\u001b[0m\u001b[0;34m(\u001b[0m\u001b[0;36m0\u001b[0m\u001b[0;34m,\u001b[0m\u001b[0mlen\u001b[0m\u001b[0;34m(\u001b[0m\u001b[0ma\u001b[0m\u001b[0;34m)\u001b[0m\u001b[0;34m)\u001b[0m\u001b[0;34m:\u001b[0m\u001b[0;34m\u001b[0m\u001b[0;34m\u001b[0m\u001b[0m\n\u001b[0;32m---> 40\u001b[0;31m     \u001b[0;32mif\u001b[0m \u001b[0ma\u001b[0m\u001b[0;34m[\u001b[0m\u001b[0mi\u001b[0m\u001b[0;34m]\u001b[0m\u001b[0;34m!=\u001b[0m\u001b[0mB\u001b[0m\u001b[0;34m[\u001b[0m\u001b[0mi\u001b[0m\u001b[0;34m]\u001b[0m\u001b[0;34m:\u001b[0m\u001b[0;34m\u001b[0m\u001b[0;34m\u001b[0m\u001b[0m\n\u001b[0m\u001b[1;32m     41\u001b[0m         \u001b[0mCnt\u001b[0m\u001b[0;34m+=\u001b[0m\u001b[0;36m1\u001b[0m\u001b[0;34m\u001b[0m\u001b[0;34m\u001b[0m\u001b[0m\n\u001b[1;32m     42\u001b[0m \u001b[0mprint\u001b[0m\u001b[0;34m(\u001b[0m\u001b[0mCnt\u001b[0m\u001b[0;34m)\u001b[0m\u001b[0;34m\u001b[0m\u001b[0;34m\u001b[0m\u001b[0m\n",
      "\u001b[0;31mIndexError\u001b[0m: list index out of range"
     ]
    }
   ],
   "source": [
    "N,M=map(int,input().split(' '))#N은 세로 M은 가로\n",
    "A=[]\n",
    "B=[]\n",
    "a=''\n",
    "Cnt=0\n",
    "Q=''\n",
    "a=str(input().split(' '))\n",
    "\n",
    "Q=a[0]\n",
    "\n",
    "if Q=='B':\n",
    "    for j in range(1,N+1):\n",
    "        if j%2==1:\n",
    "            for k in range(1,M+1):\n",
    "                if k%2==1:\n",
    "                    B.append('B')\n",
    "                else:\n",
    "                    B.append('W')\n",
    "        else:\n",
    "            for l in range(1,M+1):\n",
    "                if l%2==1:\n",
    "                    B.append('W')\n",
    "                else:\n",
    "                    B.append('B')\n",
    "else:\n",
    "    for m in range(1,N+1):\n",
    "        if m%2==1:\n",
    "            for n in range(1,M+1):\n",
    "                if n%2==1:\n",
    "                    B.append('W')\n",
    "                else:\n",
    "                    B.append('B')\n",
    "        else:\n",
    "            for m in range(1,M+1):\n",
    "                if m%2==1:\n",
    "                    B.append('B')\n",
    "                else:\n",
    "                    B.append('W')\n",
    "for i in range(0,len(a)):\n",
    "    if a[i]!=B[i]:\n",
    "        Cnt+=1\n",
    "print(Cnt)"
   ]
  },
  {
   "cell_type": "code",
   "execution_count": 21,
   "metadata": {},
   "outputs": [
    {
     "name": "stdout",
     "output_type": "stream",
     "text": [
      "5 5\n",
      "aaaaa\n",
      "bbbbb\n",
      "aaaaa\n",
      "bbbbb\n",
      "aaaaa\n"
     ]
    }
   ],
   "source": [
    "N,M=map(int,input().split(' '))\n",
    "A=[]\n",
    "for i in range(0,N):\n",
    "    A.append(str(input()))\n",
    "\n",
    "for j in range(0,N-8):\n",
    "    for k in range(0,M-8):\n",
    "    "
   ]
  },
  {
   "cell_type": "code",
   "execution_count": 22,
   "metadata": {},
   "outputs": [
    {
     "data": {
      "text/plain": [
       "['aaaaa', 'bbbbb', 'aaaaa', 'bbbbb', 'aaaaa']"
      ]
     },
     "execution_count": 22,
     "metadata": {},
     "output_type": "execute_result"
    }
   ],
   "source": [
    "A"
   ]
  },
  {
   "cell_type": "code",
   "execution_count": null,
   "metadata": {},
   "outputs": [],
   "source": []
  }
 ],
 "metadata": {
  "kernelspec": {
   "display_name": "Python 3",
   "language": "python",
   "name": "python3"
  },
  "language_info": {
   "codemirror_mode": {
    "name": "ipython",
    "version": 3
   },
   "file_extension": ".py",
   "mimetype": "text/x-python",
   "name": "python",
   "nbconvert_exporter": "python",
   "pygments_lexer": "ipython3",
   "version": "3.7.4"
  }
 },
 "nbformat": 4,
 "nbformat_minor": 4
}
