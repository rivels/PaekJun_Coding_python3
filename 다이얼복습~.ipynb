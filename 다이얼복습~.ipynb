{
 "cells": [
  {
   "cell_type": "code",
   "execution_count": null,
   "metadata": {},
   "outputs": [],
   "source": [
    "ord('A')"
   ]
  },
  {
   "cell_type": "code",
   "execution_count": null,
   "metadata": {},
   "outputs": [],
   "source": [
    "ord('Z')"
   ]
  },
  {
   "cell_type": "code",
   "execution_count": null,
   "metadata": {},
   "outputs": [],
   "source": [
    "print(sum(min(ord(c)-64,25)*28//89+3for c in input()))"
   ]
  },
  {
   "cell_type": "code",
   "execution_count": null,
   "metadata": {},
   "outputs": [],
   "source": [
    "min(1,25)"
   ]
  },
  {
   "cell_type": "code",
   "execution_count": null,
   "metadata": {},
   "outputs": [],
   "source": [
    "c='D'"
   ]
  },
  {
   "cell_type": "code",
   "execution_count": null,
   "metadata": {},
   "outputs": [],
   "source": [
    "min(ord(c)-64,25)*28//89+3"
   ]
  },
  {
   "cell_type": "code",
   "execution_count": null,
   "metadata": {},
   "outputs": [],
   "source": [
    "C={1:'c=',2:'c-',3:'dz=',4:'d-',5:'lj',6:'nj',7:'s=',8:'z='}\n",
    "N=input()\n",
    "L=[]\n",
    "for j in N:\n",
    "    \n",
    "count=0\n",
    "for i in N:\n",
    "    if i in C.values():\n",
    "        count+=1\n",
    "print(count)"
   ]
  },
  {
   "cell_type": "code",
   "execution_count": null,
   "metadata": {},
   "outputs": [],
   "source": [
    "C=['c=','c-','dz=','d-','lj','nj','s=','z=']\n",
    "c=['c','d','l','n','s','z']\n",
    "N=input() #입력값을 받는 변수 N\n",
    "T='' #유효한 입력값을 하나씩 저장하면서 진행하는 스트링 변수\n",
    "count=0 #카운트변수\n",
    "for i in N:\n",
    "    T=T+i\n",
    "    if T in c:\n",
    "        if T in C:\n",
    "            count+=1\n",
    "            T=''\n",
    "    else:\n",
    "        T=''\n",
    "print(count)"
   ]
  },
  {
   "cell_type": "code",
   "execution_count": null,
   "metadata": {},
   "outputs": [],
   "source": [
    "C=['c=','c-','dz=','d-','lj','nj','s=','z=']\n",
    "N=input()  #입력값 저장 변수 N\n",
    "count=0    #카운트 변수 count\n",
    "T=[]       #크로아티아 알파벳 저장 리스트\n",
    "R=''\n",
    "for i in C:\n",
    "    print(i)\n",
    "    if i in N:\n",
    "        count+=1\n",
    "        T.append(i)\n",
    "        R=R+i\n"
   ]
  },
  {
   "cell_type": "code",
   "execution_count": null,
   "metadata": {},
   "outputs": [],
   "source": [
    "T"
   ]
  },
  {
   "cell_type": "code",
   "execution_count": null,
   "metadata": {},
   "outputs": [],
   "source": [
    "N"
   ]
  },
  {
   "cell_type": "code",
   "execution_count": null,
   "metadata": {},
   "outputs": [],
   "source": [
    "count"
   ]
  },
  {
   "cell_type": "code",
   "execution_count": null,
   "metadata": {},
   "outputs": [],
   "source": [
    "R"
   ]
  },
  {
   "cell_type": "code",
   "execution_count": null,
   "metadata": {},
   "outputs": [],
   "source": [
    "C=['c=','c-','dz=','d-','lj','nj','s=','z=']\n",
    "N=input() #입력값 변수 N\n",
    "count=''  #크로 알파벳이 저장되는 str변수\n",
    "T=[]      #크로 알파벳이 몇개인지 저장되는 리스트\n",
    "for i in C:\n",
    "    if N.count(i)==1:\n",
    "        count=count+i\n",
    "        T.append(i)\n",
    "    elif N.count(i)>1:\n",
    "        count=count+(count*N.count(i))\n",
    "print(len(N)+len(T)-len(count))"
   ]
  },
  {
   "cell_type": "code",
   "execution_count": null,
   "metadata": {},
   "outputs": [],
   "source": [
    "C=['c=','c-','dz=','d-','lj','nj','s=','z=']\n",
    "N=input()\n",
    "C_N=''    #크로알파벳 자릿수 str변수\n",
    "C_H=0     #크로알파벳 개수   int변수\n",
    "for i in C:\n",
    "    C_H+=N.count(i)\n",
    "    if N.count(i)==1:\n",
    "        C_N=C_N+i\n",
    "    elif N.count(i)>1:\n",
    "        C_N=i*N.count(i)\n",
    "print(len(N)-len(C_N)+C_H)\n",
    "    "
   ]
  },
  {
   "cell_type": "code",
   "execution_count": null,
   "metadata": {},
   "outputs": [],
   "source": [
    "C_H"
   ]
  },
  {
   "cell_type": "code",
   "execution_count": null,
   "metadata": {},
   "outputs": [],
   "source": [
    "C_N"
   ]
  },
  {
   "cell_type": "code",
   "execution_count": null,
   "metadata": {},
   "outputs": [],
   "source": [
    "r='ljes=njak'\n",
    "r=list(r)"
   ]
  },
  {
   "cell_type": "code",
   "execution_count": null,
   "metadata": {},
   "outputs": [],
   "source": [
    "r=r.lstrip('s=')"
   ]
  },
  {
   "cell_type": "code",
   "execution_count": null,
   "metadata": {},
   "outputs": [],
   "source": [
    "C=['c=','c-','dz=','d-','lj','nj','s=','z=']\n",
    "M=N=input()\n",
    "N=list(N)\n",
    "count=0\n",
    "for i in C:\n",
    "    if N.count(i)==1:\n",
    "        M=M.remove(i)"
   ]
  },
  {
   "cell_type": "code",
   "execution_count": null,
   "metadata": {},
   "outputs": [],
   "source": [
    "M.remove('lj')"
   ]
  },
  {
   "cell_type": "code",
   "execution_count": null,
   "metadata": {
    "scrolled": true
   },
   "outputs": [],
   "source": [
    "M"
   ]
  },
  {
   "cell_type": "code",
   "execution_count": null,
   "metadata": {},
   "outputs": [],
   "source": [
    "#입력을받고 해당 입력 문자열을 포문으로 돌려서 하나씩 보ㅕㄴ서\n",
    "#첫 스펠링이 해당하지 않으면 하나씩 lstrip()으로 날려버리면서\n",
    "#해보기.\n",
    "\n",
    "C=['c=','c-','dz=','d-','lj','nj','s=','z=']\n",
    "c=['c','d','l','n','s','z']\n",
    "N=input()\n",
    "for i in N:\n",
    "    if i not in c:\n",
    "        N.lstrip(i)\n",
    "    elif i in c:\n",
    "        "
   ]
  },
  {
   "cell_type": "code",
   "execution_count": null,
   "metadata": {},
   "outputs": [],
   "source": [
    "N=input()\n",
    "C=['c=','c-','dz=','d-','lj','nj','s=','z=']\n",
    "A=0\n",
    "B=0\n",
    "for i in C:\n",
    "    A+=N.count(i)\n",
    "    if N.count(i)==1:\n",
    "        B=B+len(i)\n",
    "    elif N.count(i)>1:\n",
    "        B=B+len(i)*N.count(i)\n",
    "print(len(N)-B+A)"
   ]
  },
  {
   "cell_type": "code",
   "execution_count": 66,
   "metadata": {},
   "outputs": [
    {
     "name": "stdout",
     "output_type": "stream",
     "text": [
      "ddz=z=\n",
      "z\n",
      "z\n",
      "4\n"
     ]
    }
   ],
   "source": [
    "N=input()\n",
    "C=['c=','c-','dz=','d-','lj','nj','s=','z=']\n",
    "c=['c','d','l','n','s','z']\n",
    "count=0\n",
    "L=0\n",
    "for i in N:\n",
    "    if i in c:\n",
    "        if i+N[int(N.index(i))+1]+N[int(N.index(i))+2] in C:\n",
    "            print(i+N[int(N.rindex(i))+1]+N[int(N.rindex(i))+2])\n",
    "            count+=1\n",
    "            L+=3\n",
    "            N.lstrip(i)\n",
    "            N.lstrip(N[int(N.index(i))+1])\n",
    "            N.lstrip(N[int(N.index(i))+2])\n",
    "        elif i+N[int(N.index(i))+1] in C:\n",
    "            print(i)\n",
    "            count+=1\n",
    "            L+=2\n",
    "        else:\n",
    "            N.lstrip(i)\n",
    "    else:\n",
    "        N.lstrip(i)\n",
    "print(len(N)-L+count)"
   ]
  },
  {
   "cell_type": "code",
   "execution_count": 68,
   "metadata": {},
   "outputs": [
    {
     "data": {
      "text/plain": [
       "'z=z='"
      ]
     },
     "execution_count": 68,
     "metadata": {},
     "output_type": "execute_result"
    }
   ],
   "source": [
    "N.lstrip('d')"
   ]
  },
  {
   "cell_type": "code",
   "execution_count": 61,
   "metadata": {},
   "outputs": [
    {
     "name": "stdout",
     "output_type": "stream",
     "text": [
      "ddz=z=\n",
      "2\n"
     ]
    }
   ],
   "source": [
    "N=str(input())\n",
    "C=['c=','c-','dz=','d-','lj','nj','s=','z=']\n",
    "c=['c','d','l','n','s','z']\n",
    "count=0\n",
    "L=0\n",
    "for i in N:\n",
    "    if i in c:\n",
    "        if i =='d':\n",
    "            if i+N[int(N.index(i))+2]+N[int(N.index(i))+3] in C:\n",
    "                count+=1\n",
    "                L+=3\n",
    "                N.lstrip(i)\n",
    "                N.lstrip(N[int(N.index(i))+1])\n",
    "                N.lstrip(N[int(N.index(i))+2])\n",
    "            elif i+N[int(N.index(i))+1] in C:\n",
    "\n",
    "                count+=1\n",
    "                L+=2\n",
    "            else:\n",
    "                N.lstrip(i)\n",
    "\n",
    "print(len(N)-L+count)"
   ]
  },
  {
   "cell_type": "code",
   "execution_count": 58,
   "metadata": {},
   "outputs": [
    {
     "name": "stdout",
     "output_type": "stream",
     "text": [
      "d\n",
      "dz\n",
      "d\n",
      "dz\n",
      "z\n",
      "zz\n",
      "=\n",
      "=z\n",
      "z\n",
      "zz\n",
      "=\n",
      "=z\n"
     ]
    }
   ],
   "source": [
    "for j in N:\n",
    "    print(j)\n",
    "    print(j+N[int(N.index(i))+1])"
   ]
  },
  {
   "cell_type": "code",
   "execution_count": 80,
   "metadata": {},
   "outputs": [
    {
     "ename": "TypeError",
     "evalue": "ord() expected a character, but string of length 2 found",
     "output_type": "error",
     "traceback": [
      "\u001b[0;31m---------------------------------------------------------------------------\u001b[0m",
      "\u001b[0;31mTypeError\u001b[0m                                 Traceback (most recent call last)",
      "\u001b[0;32m<ipython-input-80-58d0eca69c0b>\u001b[0m in \u001b[0;36m<module>\u001b[0;34m\u001b[0m\n\u001b[1;32m      3\u001b[0m \u001b[0mA\u001b[0m\u001b[0;34m=\u001b[0m\u001b[0;34m[\u001b[0m\u001b[0;34m]\u001b[0m\u001b[0;34m\u001b[0m\u001b[0;34m\u001b[0m\u001b[0m\n\u001b[1;32m      4\u001b[0m \u001b[0;32mfor\u001b[0m \u001b[0mi\u001b[0m \u001b[0;32min\u001b[0m \u001b[0mC\u001b[0m\u001b[0;34m:\u001b[0m\u001b[0;34m\u001b[0m\u001b[0;34m\u001b[0m\u001b[0m\n\u001b[0;32m----> 5\u001b[0;31m     \u001b[0mord\u001b[0m\u001b[0;34m(\u001b[0m\u001b[0mi\u001b[0m\u001b[0;34m)\u001b[0m\u001b[0;34m\u001b[0m\u001b[0;34m\u001b[0m\u001b[0m\n\u001b[0m\u001b[1;32m      6\u001b[0m     \u001b[0mA\u001b[0m\u001b[0;34m.\u001b[0m\u001b[0mappend\u001b[0m\u001b[0;34m(\u001b[0m\u001b[0mord\u001b[0m\u001b[0;34m(\u001b[0m\u001b[0mi\u001b[0m\u001b[0;34m)\u001b[0m\u001b[0;34m)\u001b[0m\u001b[0;34m\u001b[0m\u001b[0;34m\u001b[0m\u001b[0m\n",
      "\u001b[0;31mTypeError\u001b[0m: ord() expected a character, but string of length 2 found"
     ]
    }
   ],
   "source": [
    "C=['c=','c-','dz=','d-','lj','nj','s=','z=']\n",
    "c=['c','d','l','n','s','z']\n",
    "A=[]\n",
    "for i in C:\n",
    "    ord(i)\n",
    "    A.append(ord(i))"
   ]
  },
  {
   "cell_type": "code",
   "execution_count": 13,
   "metadata": {},
   "outputs": [
    {
     "name": "stdout",
     "output_type": "stream",
     "text": [
      "c\n",
      "c\n",
      "c\n",
      "c\n"
     ]
    }
   ],
   "source": [
    "o='abcd'\n",
    "for i in o:\n",
    "    print(o[int(o.index('b'))+1])"
   ]
  },
  {
   "cell_type": "code",
   "execution_count": 79,
   "metadata": {},
   "outputs": [
    {
     "data": {
      "text/plain": [
       "['100', '100', '122', '61', '122', '61']"
      ]
     },
     "execution_count": 79,
     "metadata": {},
     "output_type": "execute_result"
    }
   ],
   "source": [
    "A"
   ]
  },
  {
   "cell_type": "code",
   "execution_count": 77,
   "metadata": {},
   "outputs": [
    {
     "data": {
      "text/plain": [
       "['100', '100', '122', '61', '122', '61']"
      ]
     },
     "execution_count": 77,
     "metadata": {},
     "output_type": "execute_result"
    }
   ],
   "source": [
    "A"
   ]
  },
  {
   "cell_type": "code",
   "execution_count": null,
   "metadata": {},
   "outputs": [],
   "source": []
  }
 ],
 "metadata": {
  "kernelspec": {
   "display_name": "Python 3",
   "language": "python",
   "name": "python3"
  },
  "language_info": {
   "codemirror_mode": {
    "name": "ipython",
    "version": 3
   },
   "file_extension": ".py",
   "mimetype": "text/x-python",
   "name": "python",
   "nbconvert_exporter": "python",
   "pygments_lexer": "ipython3",
   "version": "3.7.4"
  }
 },
 "nbformat": 4,
 "nbformat_minor": 4
}
