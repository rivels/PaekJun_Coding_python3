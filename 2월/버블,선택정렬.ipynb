{
 "cells": [
  {
   "cell_type": "code",
   "execution_count": 6,
   "metadata": {},
   "outputs": [
    {
     "ename": "ValueError",
     "evalue": "invalid literal for int() with base 10: ''",
     "output_type": "error",
     "traceback": [
      "\u001b[0;31m---------------------------------------------------------------------------\u001b[0m",
      "\u001b[0;31mValueError\u001b[0m                                Traceback (most recent call last)",
      "\u001b[0;32m<ipython-input-6-639b72043ec5>\u001b[0m in \u001b[0;36m<module>\u001b[0;34m\u001b[0m\n\u001b[1;32m      1\u001b[0m \u001b[0;32mfrom\u001b[0m \u001b[0msys\u001b[0m \u001b[0;32mimport\u001b[0m \u001b[0mstdin\u001b[0m\u001b[0;34m\u001b[0m\u001b[0;34m\u001b[0m\u001b[0m\n\u001b[1;32m      2\u001b[0m \u001b[0;34m\u001b[0m\u001b[0m\n\u001b[0;32m----> 3\u001b[0;31m \u001b[0mN\u001b[0m \u001b[0;34m=\u001b[0m \u001b[0mint\u001b[0m\u001b[0;34m(\u001b[0m\u001b[0mstdin\u001b[0m\u001b[0;34m.\u001b[0m\u001b[0mreadline\u001b[0m\u001b[0;34m(\u001b[0m\u001b[0;34m)\u001b[0m\u001b[0;34m)\u001b[0m\u001b[0;34m\u001b[0m\u001b[0;34m\u001b[0m\u001b[0m\n\u001b[0m\u001b[1;32m      4\u001b[0m \u001b[0mA\u001b[0m \u001b[0;34m=\u001b[0m \u001b[0;34m[\u001b[0m\u001b[0;34m]\u001b[0m\u001b[0;34m\u001b[0m\u001b[0;34m\u001b[0m\u001b[0m\n\u001b[1;32m      5\u001b[0m \u001b[0;32mfor\u001b[0m \u001b[0mi\u001b[0m \u001b[0;32min\u001b[0m \u001b[0mrange\u001b[0m\u001b[0;34m(\u001b[0m\u001b[0;36m0\u001b[0m\u001b[0;34m,\u001b[0m\u001b[0mN\u001b[0m\u001b[0;34m-\u001b[0m\u001b[0;36m1\u001b[0m\u001b[0;34m)\u001b[0m\u001b[0;34m:\u001b[0m\u001b[0;34m\u001b[0m\u001b[0;34m\u001b[0m\u001b[0m\n",
      "\u001b[0;31mValueError\u001b[0m: invalid literal for int() with base 10: ''"
     ]
    }
   ],
   "source": [
    "from sys import stdin\n",
    "\n",
    "N = int(stdin.readline())\n",
    "A = []\n",
    "for i in range(0,N):\n",
    "    A.append(int(stdin.readline()))\n",
    "\n",
    "A = sorted(A,reverse = False)\n",
    "for j in A:\n",
    "    print(j)"
   ]
  },
  {
   "cell_type": "code",
   "execution_count": 42,
   "metadata": {},
   "outputs": [],
   "source": [
    "x = [1,5,2,4,10,20,15,17,20,3]"
   ]
  },
  {
   "cell_type": "code",
   "execution_count": null,
   "metadata": {},
   "outputs": [],
   "source": [
    "def swap(x,i,j):\n",
    "    x[i], x[j] = x[j], x[i]"
   ]
  },
  {
   "cell_type": "code",
   "execution_count": 21,
   "metadata": {},
   "outputs": [
    {
     "name": "stdout",
     "output_type": "stream",
     "text": [
      "[1, 2, 3, 4, 5, 6, 7, 8, 12, 20, 40]\n"
     ]
    }
   ],
   "source": [
    "x=[1,2,3,4,5,6,7,12,8,40,20]\n",
    "for size in reversed(range(len(x))): \n",
    "    for i in range(size):\n",
    "        if x[i] > x[i+1]:\n",
    "            swap(x,i,i+1)\n",
    "print(x)    "
   ]
  },
  {
   "cell_type": "markdown",
   "metadata": {},
   "source": [
    "## 버블정렬\n",
    "    - 버블정렬은 가장 큰녀석을 맨 뒤부터 채워넣는 방식으로 정렬한다.\n",
    "    최악의 경우 시간복잡도가 O(n**2)으로 매우 오래걸리지만 정렬이 잘 되어있는 리스트라면 O(n)으로 시간이 단축될 수 있다. \n",
    "    무튼 중요한것은 가장 큰 수를 가장 뒤부터 차근차근 채워오는 것이다\n",
    "    - 2번째 줄) 정렬하고자 하는 리스트를 reversed를 통해 뒤집어서 길이를 구하고 그 안에서 다시한번 for문을 작성해서 len(x)만큼 비교해서 맨 뒤에 가장 큰 수를 넣는다.\n",
    "    - 3번째 줄) 리스트의 마지막 인덱스까지 인접한 인자들을 서로 비교\n",
    "    - 4~5번째줄) 인접한 리스트의 요소들을 비교해서 값들의 위치를 swap()함수로 바꿔나감"
   ]
  },
  {
   "cell_type": "code",
   "execution_count": 46,
   "metadata": {},
   "outputs": [],
   "source": [
    "x = [1,5,2,4,10,20,15,17,23,3]"
   ]
  },
  {
   "cell_type": "code",
   "execution_count": 48,
   "metadata": {},
   "outputs": [
    {
     "name": "stdout",
     "output_type": "stream",
     "text": [
      "[1, 2, 3, 4, 5, 10, 15, 17, 20, 23]\n"
     ]
    }
   ],
   "source": [
    "def swap(x,i,j):\n",
    "    x[i], x[j] = x[j], x[i]\n",
    "\n",
    "for size in reversed(range(len(x))):\n",
    "    M = 0\n",
    "    for i in range(1,size+1):\n",
    "        if x[i] > x[M]:\n",
    "            M = i\n",
    "        swap(x,M,size)\n",
    "print(x)"
   ]
  },
  {
   "cell_type": "markdown",
   "metadata": {},
   "source": [
    "## 선택정렬\n",
    "    - 선택정렬도 가장 큰 수를 찾아 맨 뒤부터 채워나가는 형식. 버블정렬과의 차이점은, 가장 큰수를 찾아 바로 맨 뒤의 수와 바꾸는것이 선택정렬이고 버블정렬은 인근 요소들끼리 계속 비교해나가며 정렬함.\n",
    "    - 시간복잡도는 항상 O(n**2)이다.\n",
    "    - 가장먼저 리스트를 뒤집어서 인덱스의 길이만큼 그 안의 for문이 돌아가며 비교할 수 있도록 하고\n",
    "    - max의 M이라는 변수를 설정하고 가장 맨 뒷자리에 채워질 인자를 찾아 반복문을 돌려가면서 swap 함수를 적용시킨다.\n"
   ]
  },
  {
   "cell_type": "code",
   "execution_count": 55,
   "metadata": {},
   "outputs": [],
   "source": [
    "x = [1,5,2,4,10,20,15,17,20,3]"
   ]
  },
  {
   "cell_type": "code",
   "execution_count": 54,
   "metadata": {},
   "outputs": [
    {
     "name": "stdout",
     "output_type": "stream",
     "text": [
      "[1, 5, 2, 4, 10, 20, 15, 17, 20, 3]\n"
     ]
    }
   ],
   "source": [
    "def insertion(x):\n",
    "    for size in range(1,len(x)):\n",
    "        val = x[size]\n",
    "        i = size\n",
    "        while i > 0 and x[i-1] > val:\n",
    "            x[i] = x[i-1]\n",
    "            i -= 1\n",
    "        x[i] = val\n",
    "print(x)"
   ]
  },
  {
   "cell_type": "code",
   "execution_count": 53,
   "metadata": {},
   "outputs": [
    {
     "data": {
      "text/plain": [
       "[1, 5, 2, 4, 10, 20, 15, 17, 20, 3]"
      ]
     },
     "execution_count": 53,
     "metadata": {},
     "output_type": "execute_result"
    }
   ],
   "source": [
    "x"
   ]
  },
  {
   "cell_type": "code",
   "execution_count": null,
   "metadata": {},
   "outputs": [],
   "source": []
  }
 ],
 "metadata": {
  "kernelspec": {
   "display_name": "Python 3",
   "language": "python",
   "name": "python3"
  },
  "language_info": {
   "codemirror_mode": {
    "name": "ipython",
    "version": 3
   },
   "file_extension": ".py",
   "mimetype": "text/x-python",
   "name": "python",
   "nbconvert_exporter": "python",
   "pygments_lexer": "ipython3",
   "version": "3.8.5"
  }
 },
 "nbformat": 4,
 "nbformat_minor": 4
}
