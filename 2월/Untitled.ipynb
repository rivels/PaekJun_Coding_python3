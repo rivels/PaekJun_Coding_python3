{
 "cells": [
  {
   "cell_type": "code",
   "execution_count": null,
   "metadata": {},
   "outputs": [],
   "source": [
    "import sys\n",
    "# sys.stdin.readline()\n",
    "# B = list(map(int,input().split()))\n",
    "N = int(input())\n",
    "A = []\n",
    "for i in range(N):\n",
    "    A.append(int(input()))\n",
    "\n"
   ]
  },
  {
   "cell_type": "code",
   "execution_count": 65,
   "metadata": {},
   "outputs": [
    {
     "name": "stdout",
     "output_type": "stream",
     "text": [
      "1 2 3 1 2 3 1 2 3\n",
      "1\n",
      "1\n",
      "1\n",
      "2\n",
      "2\n",
      "2\n",
      "3\n",
      "3\n",
      "3\n"
     ]
    }
   ],
   "source": [
    "A = list(map(int,input().split()))\n",
    "B = [0] * 10001\n",
    "for i in A:\n",
    "    B[int(i)] += 1\n",
    "\n",
    "for j in range(0,10001):\n",
    "    if B[j] > 0:\n",
    "        for k in range(0,B[j]):\n",
    "            print(j)"
   ]
  },
  {
   "cell_type": "code",
   "execution_count": null,
   "metadata": {},
   "outputs": [],
   "source": [
    "import sys\n",
    "n = int(sys.stdin.readline())\n",
    "b = [0] * 10001\n",
    "for i in range(n):\n",
    "    b[int(sys.stdin.readline())] += 1\n",
    "for i in range(10001):\n",
    "    if b[i] != 0:\n",
    "        for j in range(b[i]):\n",
    "            print(i)"
   ]
  },
  {
   "cell_type": "markdown",
   "metadata": {},
   "source": [
    "10 9 1 2 39 49 21 7 53 54 10 9 1 2 10 9 1 2"
   ]
  },
  {
   "cell_type": "code",
   "execution_count": null,
   "metadata": {},
   "outputs": [],
   "source": [
    "%whos"
   ]
  },
  {
   "cell_type": "code",
   "execution_count": 57,
   "metadata": {},
   "outputs": [
    {
     "name": "stdout",
     "output_type": "stream",
     "text": [
      "5\n",
      "1\n",
      "2\n",
      "3\n",
      "4\n",
      "1\n",
      "1\n",
      "1\n",
      "2\n",
      "3\n",
      "4\n"
     ]
    }
   ],
   "source": [
    "n = int(input())\n",
    "B = [0]*10001\n",
    "for i in range(n):\n",
    "    B[int(input())] += 1\n",
    "for j in range(0,10001):\n",
    "    if j > 0:\n",
    "        for k in range(0,B[j]):\n",
    "            print(j)"
   ]
  },
  {
   "cell_type": "code",
   "execution_count": 49,
   "metadata": {},
   "outputs": [
    {
     "name": "stdout",
     "output_type": "stream",
     "text": [
      "[0, 1, 1, 1, 0, 0, 0, 0, 0, 0, 0, 0, 0, 0, 0, 0, 0, 0, 0, 0, 0, 0, 0, 0, 0, 0, 0, 0, 0, 0, 0, 0, 0, 0, 0, 0, 0, 0, 0, 0, 0, 0, 0, 0, 0, 0, 0, 0, 0, 0, 0, 0, 0, 0, 0, 0, 0, 0, 0, 0, 0, 0, 0, 0, 0, 0, 0, 0, 0, 0, 0, 0, 0, 0, 0, 0, 0, 0, 0, 0, 0, 0, 0, 0, 0, 0, 0, 0, 0, 0, 0, 0, 0, 0, 0, 0, 0, 0, 0, 0, 0]\n"
     ]
    }
   ],
   "source": [
    "print(B)"
   ]
  },
  {
   "cell_type": "code",
   "execution_count": null,
   "metadata": {},
   "outputs": [],
   "source": [
    "n = int(input())\n",
    "B = [0]*10001\n",
    "\n",
    "for i in range(0,10001):\n",
    "    B[int(input())] += 1\n",
    "\n",
    "for j in range(0,10001):\n",
    "    if B[j] > 0:\n",
    "        b\n",
    "        "
   ]
  },
  {
   "cell_type": "code",
   "execution_count": null,
   "metadata": {},
   "outputs": [],
   "source": [
    "import sys\n",
    "n = int(sys.stdin.readline())\n",
    "B = [0]*10001\n",
    "for i in range(n):\n",
    "    B[int(sys.stdin.readline())] += 1\n",
    "for j in range(10001):\n",
    "    if B[j] != 0:\n",
    "        for k in range(B[j]):\n",
    "            print(j)\n",
    "            "
   ]
  },
  {
   "cell_type": "markdown",
   "metadata": {},
   "source": [
    "# 수 정렬하기3\n",
    "- 포인트 \n",
    "    - 입력되는 수의 범위가 10000으로 작다.\n",
    "    - [0]*10001 으로 0으로 가득채워진 list를 가볍게 만들 수 있다.\n",
    "    - range(0,10000)은 0~9999까지 이므로 10001으로 입력해야 한다.\n",
    "    - 굳이 여러 리스트를 구현하지 않고 0으로 가득찬 리스트를 입력 받는 족족 +1 시키면 더욱 간단하고 저장공간을 덜 차지할 수 있다.\n",
    "    \n",
    "`for i in range(10001):\n",
    "    if B[j] > 0:\n",
    "        for j in range(B[j]):\n",
    "            print(i)`"
   ]
  },
  {
   "cell_type": "code",
   "execution_count": null,
   "metadata": {},
   "outputs": [],
   "source": []
  }
 ],
 "metadata": {
  "kernelspec": {
   "display_name": "Python 3",
   "language": "python",
   "name": "python3"
  },
  "language_info": {
   "codemirror_mode": {
    "name": "ipython",
    "version": 3
   },
   "file_extension": ".py",
   "mimetype": "text/x-python",
   "name": "python",
   "nbconvert_exporter": "python",
   "pygments_lexer": "ipython3",
   "version": "3.8.5"
  }
 },
 "nbformat": 4,
 "nbformat_minor": 4
}
