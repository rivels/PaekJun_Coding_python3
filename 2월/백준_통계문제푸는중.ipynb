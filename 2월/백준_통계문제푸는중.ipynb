{
 "cells": [
  {
   "cell_type": "code",
   "execution_count": null,
   "metadata": {},
   "outputs": [],
   "source": [
    "import sys\n",
    "# sys.stdin.readline()\n",
    "# B = list(map(int,input().split()))\n",
    "N = int(input())\n",
    "A = []\n",
    "for i in range(N):\n",
    "    A.append(int(input()))\n",
    "\n"
   ]
  },
  {
   "cell_type": "code",
   "execution_count": 65,
   "metadata": {},
   "outputs": [
    {
     "name": "stdout",
     "output_type": "stream",
     "text": [
      "1 2 3 1 2 3 1 2 3\n",
      "1\n",
      "1\n",
      "1\n",
      "2\n",
      "2\n",
      "2\n",
      "3\n",
      "3\n",
      "3\n"
     ]
    }
   ],
   "source": [
    "A = list(map(int,input().split()))\n",
    "B = [0] * 10001\n",
    "for i in A:\n",
    "    B[int(i)] += 1\n",
    "\n",
    "for j in range(0,10001):\n",
    "    if B[j] > 0:\n",
    "        for k in range(0,B[j]):\n",
    "            print(j)"
   ]
  },
  {
   "cell_type": "code",
   "execution_count": null,
   "metadata": {},
   "outputs": [],
   "source": [
    "import sys\n",
    "n = int(sys.stdin.readline())\n",
    "b = [0] * 10001\n",
    "for i in range(n):\n",
    "    b[int(sys.stdin.readline())] += 1\n",
    "for i in range(10001):\n",
    "    if b[i] != 0:\n",
    "        for j in range(b[i]):\n",
    "            print(i)"
   ]
  },
  {
   "cell_type": "markdown",
   "metadata": {},
   "source": [
    "10 9 1 2 39 49 21 7 53 54 10 9 1 2 10 9 1 2"
   ]
  },
  {
   "cell_type": "code",
   "execution_count": null,
   "metadata": {},
   "outputs": [],
   "source": [
    "%whos"
   ]
  },
  {
   "cell_type": "code",
   "execution_count": 57,
   "metadata": {},
   "outputs": [
    {
     "name": "stdout",
     "output_type": "stream",
     "text": [
      "5\n",
      "1\n",
      "2\n",
      "3\n",
      "4\n",
      "1\n",
      "1\n",
      "1\n",
      "2\n",
      "3\n",
      "4\n"
     ]
    }
   ],
   "source": [
    "n = int(input())\n",
    "B = [0]*10001\n",
    "for i in range(n):\n",
    "    B[int(input())] += 1\n",
    "for j in range(0,10001):\n",
    "    if j > 0:\n",
    "        for k in range(0,B[j]):\n",
    "            print(j)"
   ]
  },
  {
   "cell_type": "code",
   "execution_count": 49,
   "metadata": {},
   "outputs": [
    {
     "name": "stdout",
     "output_type": "stream",
     "text": [
      "[0, 1, 1, 1, 0, 0, 0, 0, 0, 0, 0, 0, 0, 0, 0, 0, 0, 0, 0, 0, 0, 0, 0, 0, 0, 0, 0, 0, 0, 0, 0, 0, 0, 0, 0, 0, 0, 0, 0, 0, 0, 0, 0, 0, 0, 0, 0, 0, 0, 0, 0, 0, 0, 0, 0, 0, 0, 0, 0, 0, 0, 0, 0, 0, 0, 0, 0, 0, 0, 0, 0, 0, 0, 0, 0, 0, 0, 0, 0, 0, 0, 0, 0, 0, 0, 0, 0, 0, 0, 0, 0, 0, 0, 0, 0, 0, 0, 0, 0, 0, 0]\n"
     ]
    }
   ],
   "source": [
    "print(B)"
   ]
  },
  {
   "cell_type": "code",
   "execution_count": null,
   "metadata": {},
   "outputs": [],
   "source": [
    "n = int(input())\n",
    "B = [0]*10001\n",
    "\n",
    "for i in range(0,10001):\n",
    "    B[int(input())] += 1\n",
    "\n",
    "for j in range(0,10001):\n",
    "    if B[j] > 0:\n",
    "        b\n",
    "        "
   ]
  },
  {
   "cell_type": "code",
   "execution_count": null,
   "metadata": {},
   "outputs": [],
   "source": [
    "import sys\n",
    "n = int(sys.stdin.readline())\n",
    "B = [0]*10001\n",
    "for i in range(n):\n",
    "    B[int(sys.stdin.readline())] += 1\n",
    "for j in range(10001):\n",
    "    if B[j] != 0:\n",
    "        for k in range(B[j]):\n",
    "            print(j)\n",
    "            "
   ]
  },
  {
   "cell_type": "markdown",
   "metadata": {},
   "source": [
    "# 수 정렬하기3\n",
    "- 포인트 \n",
    "    - 입력되는 수의 범위가 10000으로 작다.\n",
    "    - [0]*10001 으로 0으로 가득채워진 list를 가볍게 만들 수 있다.\n",
    "    - range(0,10000)은 0~9999까지 이므로 10001으로 입력해야 한다.\n",
    "    - 굳이 여러 리스트를 구현하지 않고 0으로 가득찬 리스트를 입력 받는 족족 +1 시키면 더욱 간단하고 저장공간을 덜 차지할 수 있다.\n",
    "    \n",
    "`for i in range(10001):\n",
    "    if B[j] > 0:\n",
    "        for j in range(B[j]):\n",
    "            print(i)`"
   ]
  },
  {
   "cell_type": "code",
   "execution_count": 38,
   "metadata": {
    "scrolled": true
   },
   "outputs": [
    {
     "name": "stdout",
     "output_type": "stream",
     "text": [
      "5\n",
      "1\n",
      "3\n",
      "8\n",
      "-2\n",
      "2\n",
      "dict_values([1, 1, 1, 1, 1])\n",
      "산술평균 2\n",
      "중앙값 2\n",
      "최빈값 0\n",
      "범위 10\n"
     ]
    }
   ],
   "source": [
    "import collections as col\n",
    "import sys\n",
    "\n",
    "N = int(input())\n",
    "A = []\n",
    "x = []\n",
    "MODE = []\n",
    "c = 0\n",
    "\n",
    "for i in range(N):\n",
    "    A.append(int(input()))\n",
    "A = sorted(A)\n",
    "#최빈값 구하기\n",
    "mode = col.Counter(A)\n",
    "\n",
    "\n",
    "center = N/2\n",
    "if N%2 != 0:\n",
    "    CENTER = '{0:.0f}'.format(center+0.5)\n",
    "else:\n",
    "    CENTER = (N + 1)/2\n",
    "\n",
    "print('산술평균', round(sum(A)/N))\n",
    "print('중앙값', A[int(CENTER)-1])\n",
    "print('최빈값', c)\n",
    "print('범위', max(A) - min(A))"
   ]
  },
  {
   "cell_type": "code",
   "execution_count": 46,
   "metadata": {},
   "outputs": [
    {
     "data": {
      "text/plain": [
       "Counter({-2: 1, 1: 1, 2: 1, 3: 1, 8: 1})"
      ]
     },
     "execution_count": 46,
     "metadata": {},
     "output_type": "execute_result"
    }
   ],
   "source": [
    "mode"
   ]
  },
  {
   "cell_type": "code",
   "execution_count": 47,
   "metadata": {},
   "outputs": [
    {
     "data": {
      "text/plain": [
       "dict_items([(-2, 1), (1, 1), (2, 1), (3, 1), (8, 1)])"
      ]
     },
     "execution_count": 47,
     "metadata": {},
     "output_type": "execute_result"
    }
   ],
   "source": [
    "mode.items()"
   ]
  },
  {
   "cell_type": "code",
   "execution_count": 44,
   "metadata": {},
   "outputs": [
    {
     "name": "stdout",
     "output_type": "stream",
     "text": [
      "dict_values([1, 1, 1, 1, 1])\n"
     ]
    }
   ],
   "source": [
    "K = mode.values()\n",
    "# if K.count(max(K))>1:\n"
   ]
  },
  {
   "cell_type": "code",
   "execution_count": 45,
   "metadata": {},
   "outputs": [
    {
     "data": {
      "text/plain": [
       "1"
      ]
     },
     "execution_count": 45,
     "metadata": {},
     "output_type": "execute_result"
    }
   ],
   "source": [
    "max(K)"
   ]
  },
  {
   "cell_type": "code",
   "execution_count": 10,
   "metadata": {},
   "outputs": [
    {
     "name": "stdout",
     "output_type": "stream",
     "text": [
      "2\n"
     ]
    }
   ],
   "source": [
    "print(max(mode.values()))"
   ]
  },
  {
   "cell_type": "code",
   "execution_count": 18,
   "metadata": {},
   "outputs": [],
   "source": [
    "tp = tuple(mode.items())"
   ]
  },
  {
   "cell_type": "code",
   "execution_count": 24,
   "metadata": {},
   "outputs": [
    {
     "data": {
      "text/plain": [
       "((1, 2), (2, 2), (3, 1))"
      ]
     },
     "execution_count": 24,
     "metadata": {},
     "output_type": "execute_result"
    }
   ],
   "source": [
    "tp"
   ]
  },
  {
   "cell_type": "code",
   "execution_count": 11,
   "metadata": {},
   "outputs": [
    {
     "data": {
      "text/plain": [
       "'abc'"
      ]
     },
     "execution_count": 11,
     "metadata": {},
     "output_type": "execute_result"
    }
   ],
   "source": [
    "D = {}\n",
    "D.setdefault('a',1)\n",
    "D.setdefault(1,'abc')"
   ]
  },
  {
   "cell_type": "code",
   "execution_count": 14,
   "metadata": {},
   "outputs": [],
   "source": [
    "D.update(a=10)"
   ]
  },
  {
   "cell_type": "code",
   "execution_count": 212,
   "metadata": {},
   "outputs": [],
   "source": [
    "D.update({1:'abcde'})"
   ]
  },
  {
   "cell_type": "code",
   "execution_count": 213,
   "metadata": {},
   "outputs": [
    {
     "data": {
      "text/plain": [
       "{'a': 1, 1: 'abcde'}"
      ]
     },
     "execution_count": 213,
     "metadata": {},
     "output_type": "execute_result"
    }
   ],
   "source": [
    "D"
   ]
  },
  {
   "cell_type": "code",
   "execution_count": null,
   "metadata": {},
   "outputs": [],
   "source": []
  }
 ],
 "metadata": {
  "kernelspec": {
   "display_name": "Python 3",
   "language": "python",
   "name": "python3"
  },
  "language_info": {
   "codemirror_mode": {
    "name": "ipython",
    "version": 3
   },
   "file_extension": ".py",
   "mimetype": "text/x-python",
   "name": "python",
   "nbconvert_exporter": "python",
   "pygments_lexer": "ipython3",
   "version": "3.8.5"
  }
 },
 "nbformat": 4,
 "nbformat_minor": 4
}
