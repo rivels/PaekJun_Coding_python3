{
 "cells": [
  {
   "cell_type": "code",
   "execution_count": 7,
   "metadata": {},
   "outputs": [
    {
     "name": "stdout",
     "output_type": "stream",
     "text": [
      "3\n",
      "abc\n",
      "abcd\n",
      "abcde\n",
      "a\n",
      "b\n",
      "c\n",
      "abc\n",
      "a\n",
      "b\n",
      "c\n",
      "d\n",
      "abcd\n",
      "a\n",
      "b\n",
      "c\n",
      "d\n",
      "e\n",
      "abcde\n"
     ]
    }
   ],
   "source": [
    "I=A=[]\n",
    "b=''\n",
    "a=int(input())\n",
    "for i in range(0,a):\n",
    "    b=input()\n",
    "    A.append(b)\n",
    "    b=''\n",
    "for j in A:\n",
    "    for k in range(0,len(j)):\n",
    "        I.append(j[k])\n",
    "        if j[k]== \n",
    "    print(j)"
   ]
  },
  {
   "cell_type": "code",
   "execution_count": 1,
   "metadata": {},
   "outputs": [
    {
     "name": "stdout",
     "output_type": "stream",
     "text": [
      "3\n",
      "abc\n",
      "abcda\n",
      "abcde\n",
      "2\n"
     ]
    }
   ],
   "source": [
    "N=n=int(input())\n",
    "for _ in range(0,n):\n",
    "    a=input()\n",
    "    for i in range(1,len(a)):\n",
    "        if a.find(a[i])<a.find(a[i-1]):\n",
    "            N-=1\n",
    "            break\n",
    "print(N)"
   ]
  },
  {
   "cell_type": "code",
   "execution_count": 5,
   "metadata": {},
   "outputs": [
    {
     "data": {
      "text/plain": [
       "0"
      ]
     },
     "execution_count": 5,
     "metadata": {},
     "output_type": "execute_result"
    }
   ],
   "source": [
    "a.find(a)"
   ]
  },
  {
   "cell_type": "code",
   "execution_count": 3,
   "metadata": {},
   "outputs": [
    {
     "data": {
      "text/plain": [
       "str"
      ]
     },
     "execution_count": 3,
     "metadata": {},
     "output_type": "execute_result"
    }
   ],
   "source": [
    "type(a)"
   ]
  },
  {
   "cell_type": "code",
   "execution_count": 40,
   "metadata": {},
   "outputs": [
    {
     "data": {
      "text/plain": [
       "0"
      ]
     },
     "execution_count": 40,
     "metadata": {},
     "output_type": "execute_result"
    }
   ],
   "source": [
    "p='aaabca'\n",
    "p.find('a')"
   ]
  },
  {
   "cell_type": "code",
   "execution_count": 44,
   "metadata": {},
   "outputs": [
    {
     "name": "stdout",
     "output_type": "stream",
     "text": [
      "2\n",
      "abcabc\n",
      "abbbbbbbbbba\n",
      "0\n"
     ]
    }
   ],
   "source": [
    "N=int(input())\n",
    "for _ in range(0,N):\n",
    "    a=input()\n",
    "    for i in range(1,len(a)):\n",
    "        if a.find(a[i])<a.find(a[i-1]):\n",
    "            N-=1\n",
    "            break\n",
    "print(N)"
   ]
  },
  {
   "cell_type": "code",
   "execution_count": null,
   "metadata": {},
   "outputs": [],
   "source": [
    "'''\n",
    ".find라는 함수를 이용해서 풀어야 했던 문제\n",
    "주어진 문자열들을 하나씩 탐색해 나가는데 여기서\n",
    "새롭게 나오는 알파벳은 find함수에선 무조건 앞서 등장한 알파벳보다 인덱스의\n",
    "크기가 크다. 만약 앞에 나왔던적이 있는 알파벳이 다시 나온다면\n",
    "인덱스의 숫자는 최초로 나왔던 위치를 나타내기 때문에 갑자기 작아진다\n",
    "이 갑자기 작아진 포인트를 캐치해서 앞서 나왔던 것인지 판별할 수 있다.\n",
    "\n",
    "여기서는 for문을 1부터 시작하여 i-1을 활용하여 두자리씩 비교할 수 있었다.\n",
    "그렇기때문에 하나씩 나아가면서 전 자리와 비교하여 나아간다\n",
    "\n",
    "이해가 어려웠던 문제..\n",
    "'''"
   ]
  },
  {
   "cell_type": "code",
   "execution_count": 50,
   "metadata": {},
   "outputs": [],
   "source": [
    "a='abcdefabc'\n"
   ]
  },
  {
   "cell_type": "code",
   "execution_count": 51,
   "metadata": {},
   "outputs": [
    {
     "data": {
      "text/plain": [
       "['a', 'a', 'b', 'b', 'c', 'c', 'd', 'e', 'f']"
      ]
     },
     "execution_count": 51,
     "metadata": {},
     "output_type": "execute_result"
    }
   ],
   "source": [
    "sorted(a, key=a.find)"
   ]
  },
  {
   "cell_type": "code",
   "execution_count": 58,
   "metadata": {},
   "outputs": [
    {
     "name": "stdout",
     "output_type": "stream",
     "text": [
      "1000 70 170\n",
      "270\n",
      "440\n",
      "610\n",
      "780\n",
      "950\n",
      "1120\n",
      "6\n"
     ]
    }
   ],
   "source": [
    "a,b,c=map(int,input().split())\n",
    "C=0 #이익\n",
    "L=0\n",
    "T=a+b #총 소요비용\n",
    "C=c-b\n",
    "while True:\n",
    "    if c-b<0:\n",
    "        break\n",
    "    elif C<T:\n",
    "        L+=1\n",
    "        C=C+c\n",
    "        print(C)\n",
    "    elif C>T:\n",
    "        print(L)\n",
    "        break"
   ]
  },
  {
   "cell_type": "code",
   "execution_count": 117,
   "metadata": {},
   "outputs": [
    {
     "name": "stdout",
     "output_type": "stream",
     "text": [
      "100 100 100\n"
     ]
    },
    {
     "ename": "KeyboardInterrupt",
     "evalue": "",
     "output_type": "error",
     "traceback": [
      "\u001b[0;31m---------------------------------------------------------------------------\u001b[0m",
      "\u001b[0;31mKeyboardInterrupt\u001b[0m                         Traceback (most recent call last)",
      "\u001b[0;32m<ipython-input-117-913faceaa713>\u001b[0m in \u001b[0;36m<module>\u001b[0;34m\u001b[0m\n\u001b[1;32m      6\u001b[0m         \u001b[0mprint\u001b[0m\u001b[0;34m(\u001b[0m\u001b[0;34m-\u001b[0m\u001b[0;36m1\u001b[0m\u001b[0;34m)\u001b[0m\u001b[0;34m\u001b[0m\u001b[0;34m\u001b[0m\u001b[0m\n\u001b[1;32m      7\u001b[0m         \u001b[0;32mbreak\u001b[0m\u001b[0;34m\u001b[0m\u001b[0;34m\u001b[0m\u001b[0m\n\u001b[0;32m----> 8\u001b[0;31m     \u001b[0mT\u001b[0m\u001b[0;34m=\u001b[0m\u001b[0;34m(\u001b[0m\u001b[0mc\u001b[0m\u001b[0;34m-\u001b[0m\u001b[0mb\u001b[0m\u001b[0;34m)\u001b[0m\u001b[0;34m*\u001b[0m\u001b[0mi\u001b[0m\u001b[0;34m\u001b[0m\u001b[0;34m\u001b[0m\u001b[0m\n\u001b[0m\u001b[1;32m      9\u001b[0m     \u001b[0;32mif\u001b[0m \u001b[0mT\u001b[0m\u001b[0;34m>\u001b[0m\u001b[0ma\u001b[0m\u001b[0;34m+\u001b[0m\u001b[0mb\u001b[0m\u001b[0;34m:\u001b[0m\u001b[0;34m\u001b[0m\u001b[0;34m\u001b[0m\u001b[0m\n\u001b[1;32m     10\u001b[0m         \u001b[0mprint\u001b[0m\u001b[0;34m(\u001b[0m\u001b[0mi\u001b[0m\u001b[0;34m)\u001b[0m\u001b[0;34m\u001b[0m\u001b[0;34m\u001b[0m\u001b[0m\n",
      "\u001b[0;31mKeyboardInterrupt\u001b[0m: "
     ]
    }
   ],
   "source": [
    "\n",
    "a,b,c=map(int,input().split())\n",
    "T=0\n",
    "i=1\n",
    "while True:\n",
    "    if b>c or a==b==c:\n",
    "        print(-1)\n",
    "        break\n",
    "    T=(c-b)*i\n",
    "    if T>a+b:\n",
    "        print(i)\n",
    "        break\n",
    "    i+=1"
   ]
  },
  {
   "cell_type": "code",
   "execution_count": 142,
   "metadata": {},
   "outputs": [
    {
     "name": "stdout",
     "output_type": "stream",
     "text": [
      "1000 70 170\n",
      "11\n"
     ]
    }
   ],
   "source": [
    "a,b,c=map(int,input().split())\n",
    "if b>=c:\n",
    "    print(-1)\n",
    "else:\n",
    "    print(int(((a/(c-b))+1)))\n"
   ]
  },
  {
   "cell_type": "code",
   "execution_count": 146,
   "metadata": {},
   "outputs": [
    {
     "data": {
      "text/plain": [
       "14.285714285714286"
      ]
     },
     "execution_count": 146,
     "metadata": {},
     "output_type": "execute_result"
    }
   ],
   "source": [
    "1000/70"
   ]
  },
  {
   "cell_type": "code",
   "execution_count": 127,
   "metadata": {},
   "outputs": [
    {
     "data": {
      "text/plain": [
       "61569444.0"
      ]
     },
     "execution_count": 127,
     "metadata": {},
     "output_type": "execute_result"
    }
   ],
   "source": [
    "123138888/2"
   ]
  },
  {
   "cell_type": "code",
   "execution_count": 145,
   "metadata": {},
   "outputs": [
    {
     "data": {
      "text/plain": [
       "6000"
      ]
     },
     "execution_count": 145,
     "metadata": {},
     "output_type": "execute_result"
    }
   ],
   "source": [
    "1000+50*100"
   ]
  },
  {
   "cell_type": "code",
   "execution_count": 147,
   "metadata": {},
   "outputs": [
    {
     "name": "stdout",
     "output_type": "stream",
     "text": [
      "1000 70 170\n",
      "11\n"
     ]
    }
   ],
   "source": [
    "A, B, C=map(int, input().split())\n",
    "\n",
    "if B<C:\n",
    "    x=int(A/(C-B))\n",
    "    print(x+1)\n",
    "else:\n",
    "    print(-1)"
   ]
  },
  {
   "cell_type": "code",
   "execution_count": 189,
   "metadata": {},
   "outputs": [
    {
     "name": "stdout",
     "output_type": "stream",
     "text": [
      "18\n",
      "4\n"
     ]
    }
   ],
   "source": [
    "a=int(input())\n",
    "F=T=0\n",
    "F=a//5\n",
    "T=(a-F*5)//3\n",
    "if (a-F*5)%3!=0:\n",
    "    print(-1)\n",
    "else:\n",
    "    print(T+F)"
   ]
  },
  {
   "cell_type": "markdown",
   "metadata": {},
   "source": [
    "#### F"
   ]
  },
  {
   "cell_type": "code",
   "execution_count": 187,
   "metadata": {},
   "outputs": [
    {
     "data": {
      "text/plain": [
       "1"
      ]
     },
     "execution_count": 187,
     "metadata": {},
     "output_type": "execute_result"
    }
   ],
   "source": [
    "a=int(input())\n",
    "b=c=0\n",
    "if a//5>=1:\n",
    "    b=a//5\n",
    "    a-b"
   ]
  },
  {
   "cell_type": "code",
   "execution_count": 160,
   "metadata": {},
   "outputs": [
    {
     "data": {
      "text/plain": [
       "13.0"
      ]
     },
     "execution_count": 160,
     "metadata": {},
     "output_type": "execute_result"
    }
   ],
   "source": [
    "a-F*5/3"
   ]
  },
  {
   "cell_type": "code",
   "execution_count": 165,
   "metadata": {},
   "outputs": [
    {
     "data": {
      "text/plain": [
       "float"
      ]
     },
     "execution_count": 165,
     "metadata": {},
     "output_type": "execute_result"
    }
   ],
   "source": [
    "q=0.1\n",
    "type(q)"
   ]
  },
  {
   "cell_type": "code",
   "execution_count": null,
   "metadata": {},
   "outputs": [],
   "source": []
  }
 ],
 "metadata": {
  "kernelspec": {
   "display_name": "Python 3",
   "language": "python",
   "name": "python3"
  },
  "language_info": {
   "codemirror_mode": {
    "name": "ipython",
    "version": 3
   },
   "file_extension": ".py",
   "mimetype": "text/x-python",
   "name": "python",
   "nbconvert_exporter": "python",
   "pygments_lexer": "ipython3",
   "version": "3.7.4"
  }
 },
 "nbformat": 4,
 "nbformat_minor": 4
}
