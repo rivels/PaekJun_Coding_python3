{
 "cells": [
  {
   "cell_type": "code",
   "execution_count": null,
   "metadata": {},
   "outputs": [],
   "source": [
    "K=N=int(input())\n",
    "A=B=[]\n",
    "for i in range(0,N):\n",
    "    wt=list(map(int,input().split()))\n",
    "    A.append(wt)\n",
    "\n",
    "for j in A:\n",
    "    print(j[0])"
   ]
  },
  {
   "cell_type": "code",
   "execution_count": null,
   "metadata": {},
   "outputs": [],
   "source": [
    "A=[[55,185],[58,183],[88,186],[60,175],[46,155]]"
   ]
  },
  {
   "cell_type": "code",
   "execution_count": null,
   "metadata": {},
   "outputs": [],
   "source": [
    "A.sort()"
   ]
  },
  {
   "cell_type": "code",
   "execution_count": null,
   "metadata": {},
   "outputs": [],
   "source": [
    "A"
   ]
  },
  {
   "cell_type": "code",
   "execution_count": null,
   "metadata": {},
   "outputs": [],
   "source": [
    "N=int(input())\n",
    "n=1\n",
    "A=Y=[]\n",
    "for q in range(0,N):\n",
    "    wt=list(map(int,input().split()))\n",
    "    A.append(wt)\n",
    "for i,j in A:\n",
    "    for k,l in A:\n",
    "        if i<k and j<l:\n",
    "            n+=1\n",
    "    Y.append(n)\n",
    "    n=1"
   ]
  },
  {
   "cell_type": "code",
   "execution_count": null,
   "metadata": {},
   "outputs": [],
   "source": [
    "Y=[]"
   ]
  },
  {
   "cell_type": "code",
   "execution_count": null,
   "metadata": {},
   "outputs": [],
   "source": [
    "A"
   ]
  },
  {
   "cell_type": "code",
   "execution_count": null,
   "metadata": {},
   "outputs": [],
   "source": [
    "N=int(input())\n",
    "A=Y=a=[]\n",
    "n=1\n",
    "for q in range(0,N):\n",
    "    a=list(map(int,input().split()))\n",
    "    A.append(a)\n",
    "for i,j in A:\n",
    "    for k,l in A:\n",
    "        if i<k and j<l:\n",
    "            n+=1\n",
    "    Y.append(n)\n",
    "    n=1"
   ]
  },
  {
   "cell_type": "code",
   "execution_count": null,
   "metadata": {},
   "outputs": [],
   "source": [
    "Y"
   ]
  },
  {
   "cell_type": "code",
   "execution_count": 23,
   "metadata": {
    "scrolled": true
   },
   "outputs": [
    {
     "name": "stdout",
     "output_type": "stream",
     "text": [
      "5\n",
      "55 185\n",
      "58 183\n",
      "88 186\n",
      "60 175\n",
      "46 155\n",
      "2 2 1 2 5 "
     ]
    }
   ],
   "source": [
    "N=int(input())\n",
    "A=a=[]\n",
    "Y=[]\n",
    "n=1\n",
    "for q in range(0,N):\n",
    "    a=list(map(int,input().split()))\n",
    "    A.append(a)\n",
    "for i,j in A:\n",
    "    for k,l in A:\n",
    "        if i<k and j<l:\n",
    "            n+=1\n",
    "    Y.append(n)\n",
    "    n=1\n",
    "\n",
    "for _ in Y:\n",
    "    print(_,end=' ')\n",
    "    \n",
    "'''\n",
    "오늘의 해결할 수 있었던 포인트는\n",
    "for 문의 i를 하나만 쓰는게 아닌 i,j와 같이 두개를 동시에 쓸 수 있다는\n",
    "것을 알게 된 것\n",
    "그래서 두개를 포인터로 잡아두고 그 다음것과 비교하여 \n",
    "두 파트에서 모두 큰 수가 발견되면\n",
    "순위를 밀거나 당기는 방식으로 해서\n",
    "출력이 나오도록 함.\n",
    "'''"
   ]
  },
  {
   "cell_type": "code",
   "execution_count": 15,
   "metadata": {},
   "outputs": [],
   "source": [
    "Y=A=[]\n",
    "A.append(1)"
   ]
  },
  {
   "cell_type": "code",
   "execution_count": 16,
   "metadata": {},
   "outputs": [
    {
     "data": {
      "text/plain": [
       "[1]"
      ]
     },
     "execution_count": 16,
     "metadata": {},
     "output_type": "execute_result"
    }
   ],
   "source": [
    "A"
   ]
  },
  {
   "cell_type": "code",
   "execution_count": 17,
   "metadata": {},
   "outputs": [
    {
     "data": {
      "text/plain": [
       "[1]"
      ]
     },
     "execution_count": 17,
     "metadata": {},
     "output_type": "execute_result"
    }
   ],
   "source": [
    "Y"
   ]
  },
  {
   "cell_type": "code",
   "execution_count": null,
   "metadata": {},
   "outputs": [],
   "source": [
    "a"
   ]
  },
  {
   "cell_type": "code",
   "execution_count": 19,
   "metadata": {},
   "outputs": [],
   "source": [
    "for i,j in A:\n",
    "    for k,l in A:\n",
    "        if i<k and j<l:\n",
    "            n+=1\n",
    "    Y.append(n)\n",
    "    n=1"
   ]
  },
  {
   "cell_type": "code",
   "execution_count": 20,
   "metadata": {},
   "outputs": [
    {
     "data": {
      "text/plain": [
       "[2, 2, 1, 2, 5]"
      ]
     },
     "execution_count": 20,
     "metadata": {},
     "output_type": "execute_result"
    }
   ],
   "source": [
    "Y"
   ]
  },
  {
   "cell_type": "code",
   "execution_count": null,
   "metadata": {},
   "outputs": [],
   "source": [
    "Y"
   ]
  },
  {
   "cell_type": "code",
   "execution_count": null,
   "metadata": {},
   "outputs": [],
   "source": []
  }
 ],
 "metadata": {
  "kernelspec": {
   "display_name": "Python 3",
   "language": "python",
   "name": "python3"
  },
  "language_info": {
   "codemirror_mode": {
    "name": "ipython",
    "version": 3
   },
   "file_extension": ".py",
   "mimetype": "text/x-python",
   "name": "python",
   "nbconvert_exporter": "python",
   "pygments_lexer": "ipython3",
   "version": "3.7.4"
  }
 },
 "nbformat": 4,
 "nbformat_minor": 4
}
